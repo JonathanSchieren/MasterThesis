{
 "cells": [
  {
   "cell_type": "markdown",
   "id": "7af93b04-708d-4428-9da5-887797a03485",
   "metadata": {},
   "source": [
    "Some detailed steps that are not important like combining files into one file etc. are documented in \"data_preparation_new.ipynb\""
   ]
  },
  {
   "cell_type": "markdown",
   "id": "ac543e36-02db-4b98-8e80-03f7c3085384",
   "metadata": {},
   "source": [
    "# To Do: \n"
   ]
  },
  {
   "cell_type": "code",
   "execution_count": null,
   "id": "8a76bc20-958e-4836-ac12-e808e351bf0a",
   "metadata": {},
   "outputs": [],
   "source": [
    "# imports\n",
    "import xarray as xr\n",
    "import numpy as np \n",
    "import pandas as pd  \n",
    "import matplotlib.pyplot as plt \n",
    "import geopandas as gpd # this is used in the hydromt version of aggregation\n",
    "import glob # to create a dictionary for combininc the NC files\n",
    "import math\n",
    "import os\n",
    "from datetime import datetime as dt\n",
    "\n",
    "%matplotlib inline"
   ]
  },
  {
   "cell_type": "code",
   "execution_count": null,
   "id": "3e9fd578-7d5e-4fa5-9858-138b5a7591f8",
   "metadata": {},
   "outputs": [],
   "source": [
    "### new, somehow necessary to import xagg\n",
    "os.environ[\"ESMFMKFILE\"] = \"/Users/jonathanschieren/opt/anaconda3/envs/hydromt/lib/esmf.mk\""
   ]
  },
  {
   "cell_type": "code",
   "execution_count": null,
   "id": "6052313f-1005-4612-8edd-60b10b75105f",
   "metadata": {},
   "outputs": [],
   "source": [
    "import xagg as xa"
   ]
  },
  {
   "cell_type": "markdown",
   "id": "683952b0-74b1-4c9d-8cfa-f163dda222c9",
   "metadata": {},
   "source": [
    "Ensemble mean, 0.1 degree regular grid\n",
    "version 26.0e October 2022, period: 1950-01-01 - 2022-06-30\n",
    "Link: https://surfobs.climate.copernicus.eu/dataaccess/access_eobs.php#datafiles\n",
    "\n",
    "TG = daily mean temperature [°C] \\\n",
    "TN = daily minimum temperature [°C] \\\n",
    "TX = daily maximum temperature [°C] \\\n",
    "RR = sum of daily precipitation [mm] \\\n",
    "PP = daily averaged sea level pressure [hPa] \\\n",
    "HU = daily averaged relative humidity [%] \\\n",
    "FG = daily mean wind speed at 10 m height [m/s]\\\n",
    "QQ = surface shortwave downwelling radiation [W/m2] \\\n",
    "ELEV = land surface elevation above sea level [m]"
   ]
  },
  {
   "cell_type": "markdown",
   "id": "c9777f2d-1e4d-4717-93bc-a108c2b83e3e",
   "metadata": {
    "jp-MarkdownHeadingCollapsed": true,
    "tags": []
   },
   "source": [
    "# 1. Load Data & Clip [run only once!]"
   ]
  },
  {
   "cell_type": "markdown",
   "id": "3fd0a6cd-c97f-480c-b6d9-d877d9bb0c33",
   "metadata": {
    "tags": []
   },
   "source": [
    "## 1.1 Load EOBS data"
   ]
  },
  {
   "cell_type": "code",
   "execution_count": null,
   "id": "a45c0291-9dec-4edf-9a13-ed598bccf944",
   "metadata": {},
   "outputs": [],
   "source": [
    "# load the full files (they are already pre-clipped from the \"data_preparation_new.ipynb\" notebook)\n",
    "RR = xr.open_dataarray('/Users/jonathanschieren/Desktop/msc_thesis/data/e_obs/rr_ens_mean_0.1deg_reg_v26.0e_cl_old.nc', mask_and_scale=False)\n",
    "TN = xr.open_dataarray('/Users/jonathanschieren/Desktop/msc_thesis/data/e_obs/tn_ens_mean_0.1deg_reg_v26.0e_cl_old.nc', mask_and_scale=False)\n",
    "TX = xr.open_dataarray('/Users/jonathanschieren/Desktop/msc_thesis/data/e_obs/tx_ens_mean_0.1deg_reg_v26.0e_cl_old.nc', mask_and_scale=False)\n",
    "TG = xr.open_dataarray('/Users/jonathanschieren/Desktop/msc_thesis/data/e_obs/tg_ens_mean_0.1deg_reg_v26.0e_cl_old.nc', mask_and_scale=False)\n",
    "PP = xr.open_dataarray('/Users/jonathanschieren/Desktop/msc_thesis/data/e_obs/pp_ens_mean_0.1deg_reg_v26.0e_cl_old.nc', mask_and_scale=False)\n",
    "HU = xr.open_dataarray('/Users/jonathanschieren/Desktop/msc_thesis/data/e_obs/hu_ens_mean_0.1deg_reg_v26.0e_cl_old.nc', mask_and_scale=False)\n",
    "FG = xr.open_dataarray('/Users/jonathanschieren/Desktop/msc_thesis/data/e_obs/fg_ens_mean_0.1deg_reg_v26.0e_cl_old.nc', mask_and_scale=False)\n",
    "QQ = xr.open_dataarray('/Users/jonathanschieren/Desktop/msc_thesis/data/e_obs/qq_ens_mean_0.1deg_reg_v26.0e_cl_old.nc', mask_and_scale=False)"
   ]
  },
  {
   "cell_type": "code",
   "execution_count": null,
   "id": "a8269329-d0e0-489d-8b87-4ddb834e39c0",
   "metadata": {},
   "outputs": [],
   "source": [
    "# load elevation file\n",
    "ELEV = xr.open_dataarray('/Users/jonathanschieren/Desktop/msc_thesis/data/e_obs/elev_ens_0.1deg_reg_v26.0e.nc', mask_and_scale=True)"
   ]
  },
  {
   "cell_type": "markdown",
   "id": "99a3bb50-0545-4b55-a01d-c8f95d365e98",
   "metadata": {},
   "source": [
    "## 1.2 Load ERA5Land data\n",
    "Note: \n",
    "- Steps like aggregating the annual files are documented in \"data_preparation_new.ipynb\""
   ]
  },
  {
   "cell_type": "code",
   "execution_count": null,
   "id": "be54df70-ee0c-474f-93b2-7d30cdb2e08d",
   "metadata": {},
   "outputs": [],
   "source": [
    "# load albedo \n",
    "ALB = xr.open_dataarray('/Users/jonathanschieren/Desktop/msc_thesis/data/era5land/alb_combi/ERA5_f_alb_mean_total.nc', mask_and_scale=True)"
   ]
  },
  {
   "cell_type": "code",
   "execution_count": null,
   "id": "36eebb0e-6c85-48fc-9d9b-ebfabc318b4a",
   "metadata": {},
   "outputs": [],
   "source": [
    "# sort the latitude values\n",
    "ALB = ALB.sortby('latitude', ascending=True)"
   ]
  },
  {
   "cell_type": "code",
   "execution_count": null,
   "id": "f07804e7-607f-4197-aee7-3dc0d9ef069c",
   "metadata": {},
   "outputs": [],
   "source": [
    "# load the correct PET which is calculated based on the last hour of each day \n",
    "PET_last = xr.open_dataarray('/Users/jonathanschieren/Desktop/msc_thesis/data/era5land/pet_combi/ERA5_pet_total_daily_last.nc', mask_and_scale=True)"
   ]
  },
  {
   "cell_type": "code",
   "execution_count": null,
   "id": "33b9bb41-64be-4192-a064-44492b01be60",
   "metadata": {},
   "outputs": [],
   "source": [
    "# sort the latitude values\n",
    "PET_last = PET_last.sortby('latitude', ascending=True)"
   ]
  },
  {
   "cell_type": "markdown",
   "id": "8c8691c5-7e01-4f3a-83f4-35792c0d3c91",
   "metadata": {},
   "source": [
    "## 1.1 Reduce spatial extent with rectangle"
   ]
  },
  {
   "cell_type": "code",
   "execution_count": null,
   "id": "a078b1d8-4e9a-4885-bbf3-c938171d527b",
   "metadata": {},
   "outputs": [],
   "source": [
    "# Clip raster data to approximate extent of LamaH dataset\n",
    "# Corner points in epsg:4236 -> But we did not assign a CRS yet\n",
    "xmin_C = 8\n",
    "xmax_C = 18 # would have to be 19 to use basin delineations A and B but we don't need it \n",
    "ymin_C = 46\n",
    "ymax_C = 50\n",
    "\n",
    "# \n",
    "geometries = [\n",
    "    {\n",
    "        'type': 'Polygon',\n",
    "        'coordinates': [[\n",
    "            [xmin_C, ymin_C],\n",
    "            [xmin_C, ymax_C],\n",
    "            [xmax_C, ymax_C],\n",
    "            [xmax_C, ymin_C],\n",
    "            [xmin_C, ymin_C]\n",
    "        ]]\n",
    "    }\n",
    "]\n",
    "\n",
    "# Reduce size\n",
    "RR_r = RR.sel(longitude=slice(xmin_C, xmax_C), latitude=slice(ymin_C, ymax_C))\n",
    "TN_r = TN.sel(longitude=slice(xmin_C, xmax_C), latitude=slice(ymin_C, ymax_C))\n",
    "TX_r = TX.sel(longitude=slice(xmin_C, xmax_C), latitude=slice(ymin_C, ymax_C))\n",
    "TG_r = TG.sel(longitude=slice(xmin_C, xmax_C), latitude=slice(ymin_C, ymax_C))\n",
    "PP_r = PP.sel(longitude=slice(xmin_C, xmax_C), latitude=slice(ymin_C, ymax_C))\n",
    "HU_r = HU.sel(longitude=slice(xmin_C, xmax_C), latitude=slice(ymin_C, ymax_C))\n",
    "FG_r = FG.sel(longitude=slice(xmin_C, xmax_C), latitude=slice(ymin_C, ymax_C))\n",
    "QQ_r = QQ.sel(longitude=slice(xmin_C, xmax_C), latitude=slice(ymin_C, ymax_C))\n",
    "\n",
    "# albedo \n",
    "ALB_r = ALB.sel(longitude=slice(xmin_C, xmax_C), latitude=slice(ymin_C, ymax_C))\n",
    "\n",
    "\n",
    "# elevation\n",
    "ELEV_r = ELEV.sel(longitude=slice(xmin_C, xmax_C), latitude=slice(ymin_C, ymax_C))"
   ]
  },
  {
   "cell_type": "code",
   "execution_count": null,
   "id": "09b9ff6f-6aa7-4373-8aae-2809160aa99a",
   "metadata": {},
   "outputs": [],
   "source": [
    "# PET last\n",
    "PET_last_r = PET_last.sel(longitude=slice(xmin_C, xmax_C), latitude=slice(ymin_C, ymax_C))"
   ]
  },
  {
   "cell_type": "markdown",
   "id": "b986286b-b18d-4c15-82db-60470b8dd866",
   "metadata": {},
   "source": [
    "## 1.2 Reduce temporal dimension \n",
    "- this is not needed for elevation as it has no temporal dimension"
   ]
  },
  {
   "cell_type": "code",
   "execution_count": null,
   "id": "4341b802-79d5-4f24-9428-eda9d9038b30",
   "metadata": {},
   "outputs": [],
   "source": [
    "# reduce temporal extent\n",
    "RR_rr = RR_r.sel(time=slice('1981-01-01','2021-12-31'))\n",
    "TN_rr = TN_r.sel(time=slice('1981-01-01','2021-12-31'))\n",
    "TX_rr = TX_r.sel(time=slice('1981-01-01','2021-12-31'))\n",
    "TG_rr = TG_r.sel(time=slice('1981-01-01','2021-12-31'))\n",
    "PP_rr = PP_r.sel(time=slice('1981-01-01','2021-12-31'))\n",
    "HU_rr = HU_r.sel(time=slice('1981-01-01','2021-12-31'))\n",
    "FG_rr = FG_r.sel(time=slice('1981-01-01','2021-12-31'))\n",
    "QQ_rr = QQ_r.sel(time=slice('1981-01-01','2021-12-31'))\n",
    "\n",
    "# albedo \n",
    "ALB_rr = ALB_r.sel(time=slice('1981-01-01','2021-12-31'))"
   ]
  },
  {
   "cell_type": "code",
   "execution_count": null,
   "id": "7de2ada3-d85c-4ce4-b783-35f79c2bee35",
   "metadata": {},
   "outputs": [],
   "source": [
    "# PET last \n",
    "PET_last_rr = PET_last_r.sel(time=slice('1981-01-01','2021-12-31'))"
   ]
  },
  {
   "cell_type": "code",
   "execution_count": null,
   "id": "8e2d1e42-9c42-4ca6-a8a3-6d840a55e32e",
   "metadata": {},
   "outputs": [],
   "source": [
    "PET_last_rr"
   ]
  },
  {
   "cell_type": "markdown",
   "id": "b74a6817-5446-4dc1-87f1-8a4067b9d547",
   "metadata": {},
   "source": [
    "## 1.3 Save to NetCDF "
   ]
  },
  {
   "cell_type": "code",
   "execution_count": null,
   "id": "9a09e4d7-0852-4e61-b9ed-1d5476dbe79a",
   "metadata": {},
   "outputs": [],
   "source": [
    "RR_rr.to_netcdf('/Users/jonathanschieren/Desktop/msc_thesis/data/e_obs/rr_ens_mean_0.1deg_reg_v26.0e_cl.nc')\n",
    "TN_rr.to_netcdf('/Users/jonathanschieren/Desktop/msc_thesis/data/e_obs/tn_ens_mean_0.1deg_reg_v26.0e_cl.nc')\n",
    "TX_rr.to_netcdf('/Users/jonathanschieren/Desktop/msc_thesis/data/e_obs/tx_ens_mean_0.1deg_reg_v26.0e_cl.nc')\n",
    "TG_rr.to_netcdf('/Users/jonathanschieren/Desktop/msc_thesis/data/e_obs/tg_ens_mean_0.1deg_reg_v26.0e_cl.nc')\n",
    "PP_rr.to_netcdf('/Users/jonathanschieren/Desktop/msc_thesis/data/e_obs/pp_ens_mean_0.1deg_reg_v26.0e_cl.nc')\n",
    "HU_rr.to_netcdf('/Users/jonathanschieren/Desktop/msc_thesis/data/e_obs/hu_ens_mean_0.1deg_reg_v26.0e_cl.nc')\n",
    "FG_rr.to_netcdf('/Users/jonathanschieren/Desktop/msc_thesis/data/e_obs/fg_ens_mean_0.1deg_reg_v26.0e_cl.nc')\n",
    "QQ_rr.to_netcdf('/Users/jonathanschieren/Desktop/msc_thesis/data/e_obs/qq_ens_mean_0.1deg_reg_v26.0e_cl.nc')\n",
    "\n",
    "# albedo\n",
    "ALB_rr.to_netcdf('/Users/jonathanschieren/Desktop/msc_thesis/data/e_obs/ALB_ERA5Land_cl.nc')\n",
    "\n",
    "# elevation \n",
    "ELEV_r.to_netcdf('/Users/jonathanschieren/Desktop/msc_thesis/data/e_obs/elev_ens_0.1deg_reg_v26.0e_cl.nc')"
   ]
  },
  {
   "cell_type": "code",
   "execution_count": null,
   "id": "f929043f-b8cb-466c-8c3a-750b7b0706c8",
   "metadata": {},
   "outputs": [],
   "source": [
    "# PET last \n",
    "PET_last_rr.to_netcdf('/Users/jonathanschieren/Desktop/msc_thesis/data/e_obs/PET_last_ERA5Land_cl.nc')"
   ]
  },
  {
   "cell_type": "markdown",
   "id": "f130fa66-bade-4015-b216-5140d6d5e564",
   "metadata": {},
   "source": [
    "# 2 Load the clipped files & elevation & shapefile"
   ]
  },
  {
   "cell_type": "code",
   "execution_count": null,
   "id": "3579431c-1ce5-4280-a42e-ca96c50e6c62",
   "metadata": {},
   "outputs": [],
   "source": [
    "# load clipped files\n",
    "RR_cl_xr = xr.open_dataarray('/Users/jonathanschieren/Desktop/msc_thesis/data/e_obs/rr_ens_mean_0.1deg_reg_v26.0e_cl.nc', mask_and_scale=True)\n",
    "TN_cl_xr = xr.open_dataarray('/Users/jonathanschieren/Desktop/msc_thesis/data/e_obs/tn_ens_mean_0.1deg_reg_v26.0e_cl.nc', mask_and_scale=True)\n",
    "TX_cl_xr = xr.open_dataarray('/Users/jonathanschieren/Desktop/msc_thesis/data/e_obs/tx_ens_mean_0.1deg_reg_v26.0e_cl.nc', mask_and_scale=True)\n",
    "TG_cl_xr = xr.open_dataarray('/Users/jonathanschieren/Desktop/msc_thesis/data/e_obs/tg_ens_mean_0.1deg_reg_v26.0e_cl.nc', mask_and_scale=True)\n",
    "PP_cl_xr = xr.open_dataarray('/Users/jonathanschieren/Desktop/msc_thesis/data/e_obs/pp_ens_mean_0.1deg_reg_v26.0e_cl.nc', mask_and_scale=True)\n",
    "HU_cl_xr = xr.open_dataarray('/Users/jonathanschieren/Desktop/msc_thesis/data/e_obs/hu_ens_mean_0.1deg_reg_v26.0e_cl.nc', mask_and_scale=True)\n",
    "FG_cl_xr = xr.open_dataarray('/Users/jonathanschieren/Desktop/msc_thesis/data/e_obs/fg_ens_mean_0.1deg_reg_v26.0e_cl.nc', mask_and_scale=True)\n",
    "QQ_cl_xr = xr.open_dataarray('/Users/jonathanschieren/Desktop/msc_thesis/data/e_obs/qq_ens_mean_0.1deg_reg_v26.0e_cl.nc', mask_and_scale=True)\n",
    "\n",
    "# albedo \n",
    "ALB_cl_xr = xr.open_dataarray('/Users/jonathanschieren/Desktop/msc_thesis/data/e_obs/ALB_ERA5Land_cl.nc', mask_and_scale=True)\n",
    "\n",
    "# elevation\n",
    "ELEV_cl_xr = xr.open_dataarray('/Users/jonathanschieren/Desktop/msc_thesis/data/e_obs/elev_ens_0.1deg_reg_v26.0e_cl.nc')"
   ]
  },
  {
   "cell_type": "code",
   "execution_count": null,
   "id": "7ed08b15-6ea4-40e5-9474-0e044f830fa0",
   "metadata": {},
   "outputs": [],
   "source": [
    "# PET last\n",
    "PET_last_cl_xr = xr.open_dataarray('/Users/jonathanschieren/Desktop/msc_thesis/data/e_obs/PET_last_ERA5Land_cl.nc', mask_and_scale=True)"
   ]
  },
  {
   "cell_type": "markdown",
   "id": "2d9a5fbe-1e06-4b38-bfaf-bdb561f8c34c",
   "metadata": {},
   "source": [
    "## 2.1 Write CRS (is this correct?)"
   ]
  },
  {
   "cell_type": "code",
   "execution_count": null,
   "id": "fb792822-38d9-4636-bcc7-5077044277ac",
   "metadata": {},
   "outputs": [],
   "source": [
    "# Define CRS\n",
    "RR_cl_xr.rio.write_crs(\"epsg:4326\", inplace=True)\n",
    "TN_cl_xr.rio.write_crs(\"epsg:4326\", inplace=True)\n",
    "TX_cl_xr.rio.write_crs(\"epsg:4326\", inplace=True)\n",
    "TG_cl_xr.rio.write_crs(\"epsg:4326\", inplace=True)\n",
    "PP_cl_xr.rio.write_crs(\"epsg:4326\", inplace=True)\n",
    "HU_cl_xr.rio.write_crs(\"epsg:4326\", inplace=True)\n",
    "FG_cl_xr.rio.write_crs(\"epsg:4326\", inplace=True)\n",
    "QQ_cl_xr.rio.write_crs(\"epsg:4326\", inplace=True)\n",
    "\n",
    "# albedo \n",
    "ALB_cl_xr.rio.write_crs(\"epsg:4326\", inplace=True)\n",
    "\n",
    "# elevaiton\n",
    "ELEV_cl_xr.rio.write_crs(\"epsg:4326\", inplace=True)"
   ]
  },
  {
   "cell_type": "code",
   "execution_count": null,
   "id": "6338b231-754b-447d-99b6-9c596d57b99c",
   "metadata": {},
   "outputs": [],
   "source": [
    "# PET last\n",
    "PET_last_cl_xr.rio.write_crs(\"epsg:4326\", inplace=True)"
   ]
  },
  {
   "cell_type": "markdown",
   "id": "6663d38e-601c-4063-845a-3b96ef164e5c",
   "metadata": {},
   "source": [
    "## 2.2 Load and reproject the shapefile"
   ]
  },
  {
   "cell_type": "code",
   "execution_count": null,
   "id": "7e5ab941-4951-47b3-b6c0-f247473630d5",
   "metadata": {},
   "outputs": [],
   "source": [
    "# Shapefile \n",
    "shape_C = gpd.read_file('/Users/jonathanschieren/Desktop/msc_thesis/data/lamah/hourly/C_basins_intermediate_lowimp/3_shapefiles/Basins_C.shp')\n",
    "\n",
    "# Reproject to epsg:4326\n",
    "shape_C_4326 = shape_C.to_crs(epsg=4326)"
   ]
  },
  {
   "cell_type": "code",
   "execution_count": null,
   "id": "9f1b2196-c91c-4914-9c9b-7326ad85e0e5",
   "metadata": {},
   "outputs": [],
   "source": [
    "print(\"Before\", shape_C.crs)\n",
    "print(\"After\", shape_C_4326.crs)"
   ]
  },
  {
   "cell_type": "code",
   "execution_count": null,
   "id": "635f2af6-9171-4401-9c3c-7bd2fb88240d",
   "metadata": {},
   "outputs": [],
   "source": [
    "# create array of catchment ID's\n",
    "IDs = np.zeros(shape_C_4326.shape[0])\n",
    "for i in range(shape_C_4326.shape[0]):\n",
    "    IDs[i] = shape_C_4326.ID[i]"
   ]
  },
  {
   "cell_type": "markdown",
   "id": "e53849b1-86b2-44ea-9d00-6ea52b36e9da",
   "metadata": {},
   "source": [
    "## 2.3 Shift and clip the grid of the ERA5Land data (albedo, PET) and shift the grid of wind speed by a tiny bite from 8.05 to 8.0469..\n",
    "- For some reason the grid of wind speed is 8.05 while all others from EOBS are 8.0469.. it does not really matter but we will fix it here "
   ]
  },
  {
   "cell_type": "code",
   "execution_count": null,
   "id": "7877890f-3957-4590-b170-3e953181efca",
   "metadata": {},
   "outputs": [],
   "source": [
    "# starting lat \n",
    "start_lat_alb = 46.0\n",
    "start_lon_alb = 8.0\n",
    "\n",
    "# starting lon \n",
    "start_lat_eobs = 46.04986\n",
    "start_lon_eobs = 8.04986\n",
    "\n",
    "# differences\n",
    "lat_shift = start_lat_eobs - start_lat_alb\n",
    "lon_shift = start_lon_eobs - start_lon_alb"
   ]
  },
  {
   "cell_type": "code",
   "execution_count": null,
   "id": "889fab33-fbd6-422f-8836-5dfb36a7961f",
   "metadata": {},
   "outputs": [],
   "source": [
    "# shift albedo \n",
    "ALB_cl_xr = ALB_cl_xr.assign_coords(latitude=ALB_cl_xr.latitude + lat_shift,\n",
    "                                              longitude=ALB_cl_xr.longitude + lon_shift)"
   ]
  },
  {
   "cell_type": "code",
   "execution_count": null,
   "id": "960988fe-4e04-4419-88f7-b241b81cd209",
   "metadata": {},
   "outputs": [],
   "source": [
    "# Remove the last value along the latitude dimension\n",
    "ALB_cl_xr = ALB_cl_xr.isel(latitude=slice(None, -1))\n",
    "\n",
    "# Remove the last value along the longitude dimension\n",
    "ALB_cl_xr = ALB_cl_xr.isel(longitude=slice(None, -1))"
   ]
  },
  {
   "cell_type": "code",
   "execution_count": null,
   "id": "5180f3f5-9b61-4e21-85c1-387699c2334b",
   "metadata": {},
   "outputs": [],
   "source": [
    "# minimally shift grid of wind speed (this is now only affecting the original 10m, as we have alread computed the 2m but does not really matter)\n",
    "# starting lat \n",
    "start_lat_alb = 46.05\n",
    "start_lon_alb = 8.05\n",
    "\n",
    "# starting lon \n",
    "start_lat_eobs = 46.04986\n",
    "start_lon_eobs = 8.04986\n",
    "\n",
    "# differences\n",
    "lat_shift = start_lat_eobs - start_lat_alb\n",
    "lon_shift = start_lon_eobs - start_lon_alb\n"
   ]
  },
  {
   "cell_type": "code",
   "execution_count": null,
   "id": "f00f39d8-cb12-404b-8cc9-194e95ed5a6c",
   "metadata": {},
   "outputs": [],
   "source": [
    "# shift wind\n",
    "FG_cl_xr_shifted = FG_cl_xr.assign_coords(latitude=FG_cl_xr.latitude + lat_shift,\n",
    "                                              longitude=FG_cl_xr.longitude + lon_shift)"
   ]
  },
  {
   "cell_type": "code",
   "execution_count": null,
   "id": "fe58f5b1-2f1c-4ed4-8cf9-3745df682393",
   "metadata": {},
   "outputs": [],
   "source": [
    "# shift PET last \n",
    "PET_last_cl_xr = PET_last_cl_xr.assign_coords(latitude=PET_last_cl_xr.latitude + lat_shift,\n",
    "                                              longitude=PET_last_cl_xr.longitude + lon_shift)"
   ]
  },
  {
   "cell_type": "code",
   "execution_count": null,
   "id": "01b40b8c-ec12-4db6-92d4-39c66e75886b",
   "metadata": {},
   "outputs": [],
   "source": [
    "# Remove the last value along the latitude dimension\n",
    "PET_last_cl_xr = PET_last_cl_xr.isel(latitude=slice(None, -1))\n",
    "\n",
    "# Remove the last value along the longitude dimension\n",
    "PET_last_cl_xr = PET_last_cl_xr.isel(longitude=slice(None, -1))"
   ]
  },
  {
   "cell_type": "code",
   "execution_count": null,
   "id": "c120344a-f2c5-44a3-963f-c0d13deeb347",
   "metadata": {},
   "outputs": [],
   "source": [
    "PET_last_cl_xr"
   ]
  },
  {
   "cell_type": "markdown",
   "id": "1480ab77-3578-43c9-8885-189802de9b3c",
   "metadata": {},
   "source": [
    "# 3. Analyse and fill missing data and scale"
   ]
  },
  {
   "cell_type": "markdown",
   "id": "b1fe8482-a59b-4472-8634-4601f3a8a8d1",
   "metadata": {},
   "source": [
    "## 3.1 Find and interpolate missing values"
   ]
  },
  {
   "cell_type": "code",
   "execution_count": null,
   "id": "25ea79b6-18fa-4ede-be13-99d05436d531",
   "metadata": {},
   "outputs": [],
   "source": [
    "# function for missing data \n",
    "def missing(dataarray):\n",
    "    \n",
    "    # missing values\n",
    "    missing_values = dataarray.isnull()\n",
    "    \n",
    "    # missing values per time step \n",
    "    count_missing = missing_values.sum(dim='time')\n",
    "    \n",
    "    # total missing \n",
    "    total_missing = missing_values.sum()\n",
    "    \n",
    "    # percentage missing \n",
    "    percentage = total_missing / dataarray.size * 100\n",
    "\n",
    "    \n",
    "    return total_missing, percentage"
   ]
  },
  {
   "cell_type": "code",
   "execution_count": null,
   "id": "0ada2497-cd5d-423a-b98d-d40438b395c0",
   "metadata": {},
   "outputs": [],
   "source": [
    "# mean temperature \n",
    "total_missing_TG, percentage_TG = missing(TG_cl_xr)"
   ]
  },
  {
   "cell_type": "code",
   "execution_count": null,
   "id": "96cb778b-cc69-4c61-b38e-b1d9c38bc38a",
   "metadata": {},
   "outputs": [],
   "source": [
    "# minimum temperature \n",
    "total_missing_TN, percentage_TN = missing(TN_cl_xr)"
   ]
  },
  {
   "cell_type": "code",
   "execution_count": null,
   "id": "54ba4d24-248f-42e7-a143-e7bfb4b07c69",
   "metadata": {},
   "outputs": [],
   "source": [
    "# maximum temperature\n",
    "total_missing_TX, percentage_TX = missing(TX_cl_xr)"
   ]
  },
  {
   "cell_type": "code",
   "execution_count": null,
   "id": "f075e3fe-9d22-4daa-985d-bee0b5d0647a",
   "metadata": {},
   "outputs": [],
   "source": [
    "# precipitation \n",
    "total_missing_RR, percentage_RR = missing(RR_cl_xr)"
   ]
  },
  {
   "cell_type": "code",
   "execution_count": null,
   "id": "b3d1db40-bbf6-4f56-9a16-1cb072b67170",
   "metadata": {},
   "outputs": [],
   "source": [
    "# sea level pressure\n",
    "total_missing_PP, percentage_PP = missing(PP_cl_xr)"
   ]
  },
  {
   "cell_type": "code",
   "execution_count": null,
   "id": "73d92a50-f37b-4db8-9695-66bbd49b9828",
   "metadata": {},
   "outputs": [],
   "source": [
    "# relative humidity\n",
    "total_missing_HU, percentage_HU = missing(HU_cl_xr)"
   ]
  },
  {
   "cell_type": "code",
   "execution_count": null,
   "id": "e82e055b-319b-4331-a379-471237f86e6d",
   "metadata": {},
   "outputs": [],
   "source": [
    "# wind speed \n",
    "total_missing_FG, percentage_FG = missing(FG_cl_xr)"
   ]
  },
  {
   "cell_type": "code",
   "execution_count": null,
   "id": "d92892c8-9428-42b7-9cc5-6fc877034ef6",
   "metadata": {},
   "outputs": [],
   "source": [
    "# shortwave radiation \n",
    "total_missing_QQ, percentage_QQ = missing(QQ_cl_xr)"
   ]
  },
  {
   "cell_type": "code",
   "execution_count": null,
   "id": "9303bac2-874a-430c-8578-35e9e31706a4",
   "metadata": {},
   "outputs": [],
   "source": [
    "# albedo \n",
    "total_missing_ALB, percentage_ALB = missing(ALB_cl_xr)"
   ]
  },
  {
   "cell_type": "code",
   "execution_count": null,
   "id": "71b19f99-835c-48b3-9285-205ca719af01",
   "metadata": {},
   "outputs": [],
   "source": [
    "# PET last \n",
    "total_missing_PET_last, percentage_PET_last = missing(PET_last_cl_xr)"
   ]
  },
  {
   "cell_type": "code",
   "execution_count": null,
   "id": "cef779b5-ab96-4854-8704-97148fef0051",
   "metadata": {},
   "outputs": [],
   "source": [
    "# print missing values: \n",
    "print(\"Mean temp\", total_missing_TG.values, percentage_TG.values)\n",
    "print(\"Minimum temp\", total_missing_TN.values, percentage_TN.values)\n",
    "print(\"Maximum temp\", total_missing_TX.values, percentage_TX.values)\n",
    "print(\"Precipitation\", total_missing_RR.values, percentage_RR.values)\n",
    "print(\"Sea level pressure\", total_missing_PP.values, percentage_PP.values)\n",
    "print(\"Relative humidity\", total_missing_HU.values, percentage_HU.values)\n",
    "print(\"Wind speed\", total_missing_FG.values, percentage_FG.values)\n",
    "print(\"Shortwave radiation\", total_missing_QQ.values, percentage_QQ.values)\n",
    "print(\"Albedo\", total_missing_ALB.values, percentage_ALB.values)\n",
    "\n"
   ]
  },
  {
   "cell_type": "code",
   "execution_count": null,
   "id": "3fba872b-168b-4ac0-b286-f9921227544f",
   "metadata": {},
   "outputs": [],
   "source": [
    "# interpolation function \n",
    "def spatial_interpolate_missing(dataarray):\n",
    "    # Iterate through each time step\n",
    "    for t in dataarray.time:\n",
    "        # Check if there are missing values at the current time step\n",
    "        if dataarray.sel(time=t, method=\"nearest\").isnull().any():\n",
    "            # Interpolate spatially for the current time step\n",
    "            dataarray.loc[{\"time\": t}] = dataarray.sel(time=t, method=\"nearest\").rio.interpolate_na()\n",
    "\n",
    "    return dataarray"
   ]
  },
  {
   "cell_type": "code",
   "execution_count": null,
   "id": "84772447-1726-4183-b1b9-6fe04ce6bc11",
   "metadata": {},
   "outputs": [],
   "source": [
    "FG_cl_xr = spatial_interpolate_missing(FG_cl_xr)"
   ]
  },
  {
   "cell_type": "code",
   "execution_count": null,
   "id": "f67722c9-3b13-4c59-a918-de058967d0bd",
   "metadata": {},
   "outputs": [],
   "source": [
    "HU_cl_xr = spatial_interpolate_missing(HU_cl_xr)"
   ]
  },
  {
   "cell_type": "markdown",
   "id": "521be72f-0063-4d88-b502-0c9af4784a03",
   "metadata": {},
   "source": [
    "## 3.2 Convert the PET from ERA5Land from m to mm \n",
    "Note: \n",
    "**PET in ERA5Land is computed as open water evaporation**"
   ]
  },
  {
   "cell_type": "code",
   "execution_count": null,
   "id": "9f897948-b397-480b-b33c-9a53ad4de187",
   "metadata": {},
   "outputs": [],
   "source": [
    "# convert PET last to mm \n",
    "PET_last_mm_cl_xr = PET_last_cl_xr * -1000"
   ]
  },
  {
   "cell_type": "code",
   "execution_count": null,
   "id": "9773b05c-a35e-4229-8ee4-80533b72ce30",
   "metadata": {},
   "outputs": [],
   "source": [
    "date_test = \"1981-04-01\"\n",
    "plot = PET_last_mm_cl_xr.sel(time=date_test)\n",
    "plot.plot()"
   ]
  },
  {
   "cell_type": "markdown",
   "id": "0655d521-1a2f-40c9-b6a4-b96222ec4318",
   "metadata": {
    "tags": []
   },
   "source": [
    "# 4. Calculate PET based on Penman-Monteith (FAO) \n",
    "- use EOBS observation + albedo from ERA5Land\n",
    "\n",
    "IMPORTANT: \n",
    "**Some functions are taken from pyeto package Github code**\n",
    "https://github.com/woodcrafty/PyETo/blob/master/pyeto/fao.py"
   ]
  },
  {
   "cell_type": "markdown",
   "id": "f6b4482e-61af-41c9-8c2a-eb347ea85119",
   "metadata": {},
   "source": [
    "## 4.1 Check and convert units!"
   ]
  },
  {
   "cell_type": "markdown",
   "id": "d3c58458-fb0e-4d94-97b8-27427ad1b2e4",
   "metadata": {},
   "source": [
    "TG = daily mean temperature [°C] \\\n",
    "TN = daily minimum temperature [°C] \\\n",
    "TX = daily maximum temperature [°C] \\\n",
    "RR = sum of daily precipitation [mm] \\\n",
    "PP = daily averaged sea level pressure [hPa] \\\n",
    "HU = daily averaged relative humidity [%] \\\n",
    "FG = daily mean wind speed at 10 m height [m/s]\\\n",
    "QQ = surface shortwave downwelling radiation [W/m2] \\\n",
    "ELEV = land surface elevation above sea level [m]\n",
    "\n",
    "**Which ones do we need for Penman FAO?** \\\n",
    "No changes in unit required: \\\n",
    "- TG = daily mean temperature [°C] \\\n",
    "- TN = daily minimum temperature [°C] \\\n",
    "- TX = daily maximum temperature [°C] \\\n",
    "- FG = daily mean wind speed at 10 m height [m/s] \\\n",
    "- ELEV = land surface elevation above sea level [m]\\\n",
    "- HU = daily averaged relative humidity [%] \\\n",
    "\n",
    "Change in unit required: \\\n",
    "- QQ = surface shortwave downwelling radiation [W/m2] \\ -> Needs to be converted to MJ/m2*day"
   ]
  },
  {
   "cell_type": "code",
   "execution_count": null,
   "id": "97f05f28-80a1-4cc1-8734-39e8bedea0d1",
   "metadata": {},
   "outputs": [],
   "source": [
    "# surface shortwave downwelling radiation\n",
    "QQ_cl_xr_mj = (QQ_cl_xr * 86400) * 0.000001"
   ]
  },
  {
   "cell_type": "markdown",
   "id": "ad703163-53bf-43eb-bed1-ef5f944013d7",
   "metadata": {},
   "source": [
    "## 4.2 Wind speed [m/s] (correct for altitude)"
   ]
  },
  {
   "cell_type": "code",
   "execution_count": null,
   "id": "88a55440-bc0c-432c-bffd-5dab86a347d0",
   "metadata": {},
   "outputs": [],
   "source": [
    "# function to correct wind speed\n",
    "def wind_speed_2m(ws, z):\n",
    "    \"\"\"\n",
    "    Convert wind speed measured at different heights above the soil\n",
    "    surface to wind speed at 2 m above the surface, assuming a short grass\n",
    "    surface.\n",
    "\n",
    "    Based on FAO equation 47 in Allen et al (1998).\n",
    "\n",
    "    :param ws: Measured wind speed [m s-1]\n",
    "    :param z: Height of wind measurement above ground surface [m]\n",
    "    :return: Wind speed at 2 m above the surface [m s-1]\n",
    "    :rtype: float\n",
    "    \"\"\"\n",
    "    return ws * (4.87 / math.log((67.8 * z) - 5.42))"
   ]
  },
  {
   "cell_type": "code",
   "execution_count": null,
   "id": "257be354-606f-4803-b4cb-69e27295511c",
   "metadata": {},
   "outputs": [],
   "source": [
    "# apply conversion \n",
    "z = 10 # m \n",
    "FG_cl_xr_2m = wind_speed_2m(FG_cl_xr, z)"
   ]
  },
  {
   "cell_type": "markdown",
   "id": "b624b05a-7951-4830-bcc2-a11eafe5763d",
   "metadata": {},
   "source": [
    "## 4.3 Slope of saturation vapour pressure curve [kPa / °C]\n",
    "- Use mean air temperature"
   ]
  },
  {
   "cell_type": "code",
   "execution_count": null,
   "id": "9c3ad066-fcdc-421b-933f-207067a84572",
   "metadata": {},
   "outputs": [],
   "source": [
    "# function\n",
    "def delta_svp_func(t):\n",
    "    \"\"\"\n",
    "    Estimate the slope of the saturation vapour pressure curve at a given\n",
    "    temperature.\n",
    "\n",
    "    Based on equation 13 in Allen et al (1998). If using in the Penman-Monteith\n",
    "    *t* should be the mean air temperature.\n",
    "\n",
    "    :param t: Air temperature [deg C]. Use mean air temperature for use in\n",
    "        Penman-Monteith.\n",
    "    :return: Saturation vapour pressure [kPa degC-1]\n",
    "    :rtype: float\n",
    "    \"\"\"\n",
    "    tmp = 4098 * (0.6108 * np.exp((17.27 * t) / (t + 237.3)))\n",
    "    #return tmp / math.pow((t + 237.3), 2)\n",
    "    return tmp / np.power((t + 237.3), 2)"
   ]
  },
  {
   "cell_type": "code",
   "execution_count": null,
   "id": "1e936a4e-17b4-489c-a661-264fa61d7dff",
   "metadata": {},
   "outputs": [],
   "source": [
    "# compoute slope\n",
    "delta_svp = xr.apply_ufunc(delta_svp_func, TG_cl_xr)"
   ]
  },
  {
   "cell_type": "markdown",
   "id": "9852b269-c481-46c7-a727-51b4fff41fd0",
   "metadata": {},
   "source": [
    "## 4.4 Atmospheric pressure [kPa]\n",
    "Calculate atmospheric pressure based on elevation data from EOBS \n",
    "- This is not a time series!"
   ]
  },
  {
   "cell_type": "code",
   "execution_count": null,
   "id": "55856af1-36d1-459f-af07-c81ef6ff7304",
   "metadata": {},
   "outputs": [],
   "source": [
    "# function for atmospheric pressure\n",
    "def atm_pressure(altitude):\n",
    "    \"\"\"\n",
    "    Estimate atmospheric pressure from altitude.\n",
    "\n",
    "    Calculated using a simplification of the ideal gas law, assuming 20 degrees\n",
    "    Celsius for a standard atmosphere. Based on equation 7, page 62 in Allen\n",
    "    et al (1998).\n",
    "\n",
    "    :param altitude: Elevation/altitude above sea level [m]\n",
    "    :return: atmospheric pressure [kPa]\n",
    "    :rtype: float\n",
    "    \"\"\"\n",
    "    tmp = (293.0 - (0.0065 * altitude)) / 293.0\n",
    "    return np.power(tmp, 5.26) * 101.3"
   ]
  },
  {
   "cell_type": "code",
   "execution_count": null,
   "id": "286da32a-8368-428d-8f93-470ebfe38e4e",
   "metadata": {},
   "outputs": [],
   "source": [
    "# calculate\n",
    "p_atmos = atm_pressure(ELEV_cl_xr)"
   ]
  },
  {
   "cell_type": "markdown",
   "id": "a15b8522-35c9-43f7-975e-9d2c282c7e00",
   "metadata": {},
   "source": [
    "## 4.5 Psychrometric constant [kPa / °C]\n",
    "Calculate psychrometric constant based on atmospheric pressure\n",
    "- Not a time series"
   ]
  },
  {
   "cell_type": "code",
   "execution_count": null,
   "id": "d4598120-ef0f-4ebe-b6c0-2b7b039c9dce",
   "metadata": {},
   "outputs": [],
   "source": [
    "# function \n",
    "def psy_const(atmos_pres):\n",
    "    \"\"\"\n",
    "    Calculate the psychrometric constant.\n",
    "\n",
    "    This method assumes that the air is saturated with water vapour at the\n",
    "    minimum daily temperature. This assumption may not hold in arid areas.\n",
    "\n",
    "    Based on equation 8, page 95 in Allen et al (1998).\n",
    "\n",
    "    :param atmos_pres: Atmospheric pressure [kPa]. Can be estimated using\n",
    "        ``atm_pressure()``.\n",
    "    :return: Psychrometric constant [kPa degC-1].\n",
    "    :rtype: float\n",
    "    \"\"\"\n",
    "    return 0.000665 * atmos_pres"
   ]
  },
  {
   "cell_type": "code",
   "execution_count": null,
   "id": "a0614359-9249-4b95-83d0-af486154cda6",
   "metadata": {},
   "outputs": [],
   "source": [
    "psych_const = psy_const(p_atmos)"
   ]
  },
  {
   "cell_type": "markdown",
   "id": "564ea2d1-fd63-491b-abbb-d8f418a52dbf",
   "metadata": {},
   "source": [
    "## 4.6 Mean saturation vapour pressure"
   ]
  },
  {
   "cell_type": "code",
   "execution_count": null,
   "id": "0a77687b-b69c-455b-9f5c-3ffeffed34ed",
   "metadata": {},
   "outputs": [],
   "source": [
    "# function for saturation vapour pressure\n",
    "def svp_from_t(t):\n",
    "    \"\"\"\n",
    "    Estimate saturation vapour pressure (*es*) from air temperature.\n",
    "\n",
    "    Based on equations 11 and 12 in Allen et al (1998).\n",
    "\n",
    "    :param t: Temperature [deg C]\n",
    "    :return: Saturation vapour pressure [kPa]\n",
    "    :rtype: float\n",
    "    \"\"\"\n",
    "    return 0.6108 * np.exp((17.27 * t) / (t + 237.3))"
   ]
  },
  {
   "cell_type": "code",
   "execution_count": null,
   "id": "b8f25c45-a229-452a-af9f-0cb077f05c89",
   "metadata": {},
   "outputs": [],
   "source": [
    "# calculate separately saturation vapour pressure for min and max temperature\n",
    "svp_min = svp_from_t(TN_cl_xr)\n",
    "svp_max = svp_from_t(TX_cl_xr)"
   ]
  },
  {
   "cell_type": "code",
   "execution_count": null,
   "id": "4b112caa-6394-4978-ac57-a6bd992bd5fe",
   "metadata": {},
   "outputs": [],
   "source": [
    "svp_sum_numpy = svp_max.values + svp_min.values"
   ]
  },
  {
   "cell_type": "code",
   "execution_count": null,
   "id": "9359cdee-2cae-4db9-ba47-244fa602f079",
   "metadata": {},
   "outputs": [],
   "source": [
    "coords = {'latitude': svp_min.latitude, 'longitude': svp_min.longitude}\n",
    "\n",
    "# Convert the NumPy array back into an xarray DataArray\n",
    "svp_sum = xr.DataArray(svp_sum_numpy, coords=coords, dims=svp_min.dims, attrs=svp_min.attrs)"
   ]
  },
  {
   "cell_type": "code",
   "execution_count": null,
   "id": "899ff9ad-de8c-4174-98ac-f85df414931f",
   "metadata": {},
   "outputs": [],
   "source": [
    "svp_mean = svp_sum / 2.0"
   ]
  },
  {
   "cell_type": "code",
   "execution_count": null,
   "id": "9e0c97f8-1052-44f7-84ff-38220c7ec6e3",
   "metadata": {},
   "outputs": [],
   "source": [
    "# assign time as coordinate, not sure if it makes a difference\n",
    "svp_mean = svp_mean.assign_coords(time=svp_mean['time'])"
   ]
  },
  {
   "cell_type": "code",
   "execution_count": null,
   "id": "067c74e8-52fd-40f1-b2cd-a2eca9735001",
   "metadata": {},
   "outputs": [],
   "source": [
    "svp_mean"
   ]
  },
  {
   "cell_type": "markdown",
   "id": "6350e906-bedb-471f-897b-cb72d2fdeca1",
   "metadata": {},
   "source": [
    "## 4.7 Actual vapour pressure [kPa]\n",
    "Based on relative humidity. \n",
    "- Note that there is also a formula with RHmin and RHmax but we do not have those as observations "
   ]
  },
  {
   "cell_type": "code",
   "execution_count": null,
   "id": "ac2d709c-b9ee-4f8c-989c-d062f6b99831",
   "metadata": {},
   "outputs": [],
   "source": [
    "# function to calculate actual vapour pressure from MEAN relative humidity \n",
    "def avp_from_rhmean(svp_tmin, svp_tmax, rh_mean):\n",
    "    \"\"\"\n",
    "    Estimate actual vapour pressure (*ea*) from saturation vapour pressure at\n",
    "    daily minimum and maximum temperature, and mean relative humidity.\n",
    "\n",
    "    Based on FAO equation 19 in Allen et al (1998).\n",
    "\n",
    "    :param svp_tmin: Saturation vapour pressure at daily minimum temperature\n",
    "        [kPa]. Can be estimated using ``svp_from_t()``.\n",
    "    :param svp_tmax: Saturation vapour pressure at daily maximum temperature\n",
    "        [kPa]. Can be estimated using ``svp_from_t()``.\n",
    "    :param rh_mean: Mean relative humidity [%] (average of RH min and RH max).\n",
    "    :return: Actual vapour pressure [kPa]\n",
    "    :rtype: float\n",
    "    \"\"\"\n",
    "    return (rh_mean / 100.0) * ((svp_tmax + svp_tmin) / 2.0)"
   ]
  },
  {
   "cell_type": "code",
   "execution_count": null,
   "id": "c8b9537b-67f7-472c-904b-b32703e98e0d",
   "metadata": {},
   "outputs": [],
   "source": [
    "# calculate as numpy\n",
    "avp_numpy = avp_from_rhmean(svp_min.values, svp_max.values, HU_cl_xr.values)"
   ]
  },
  {
   "cell_type": "code",
   "execution_count": null,
   "id": "37f2b432-72a5-42dd-9e44-6cb719f5df59",
   "metadata": {},
   "outputs": [],
   "source": [
    "coords = {'latitude': svp_min.latitude, 'longitude': svp_min.longitude, 'time': svp_min.time}\n",
    "\n",
    "# Convert the NumPy array back into an xarray DataArray\n",
    "avp = xr.DataArray(avp_numpy, coords=coords, dims=svp_min.dims, attrs=svp_min.attrs)"
   ]
  },
  {
   "cell_type": "markdown",
   "id": "98c3c2ef-595d-4c45-b8ac-3e0739966937",
   "metadata": {},
   "source": [
    "## 4.8 Inverse distance & solar declination"
   ]
  },
  {
   "cell_type": "markdown",
   "id": "28978454-800d-48fc-8532-742166e39109",
   "metadata": {},
   "source": [
    "### 4.8.1 Inverse distance"
   ]
  },
  {
   "cell_type": "code",
   "execution_count": null,
   "id": "29d12b21-a4d9-4558-923e-65fc992c53e8",
   "metadata": {},
   "outputs": [],
   "source": [
    "# function for inverse distance \n",
    "def inv_rel_dist_earth_sun(day_of_year):\n",
    "    \"\"\"\n",
    "    Calculate the inverse relative distance between earth and sun from\n",
    "    day of the year.\n",
    "\n",
    "    Based on FAO equation 23 in Allen et al (1998).\n",
    "\n",
    "    :param day_of_year: Day of the year [1 to 366]\n",
    "    :return: Inverse relative distance between earth and the sun\n",
    "    :rtype: float\n",
    "    \"\"\"\n",
    "    ### _check_doy(day_of_year) # in the original code this is imported to check that DOY is between 0 and 366\n",
    "    return 1 + (0.033 * np.cos((2.0 * np.pi / 365.0) * day_of_year))"
   ]
  },
  {
   "cell_type": "code",
   "execution_count": null,
   "id": "474db6bc-0206-4839-a3f7-de2a6aa2f0ab",
   "metadata": {},
   "outputs": [],
   "source": [
    "# first compute day of the year \n",
    "\n",
    "# I guess we can take any variable that has a time component so let's take \n",
    "# avp \n",
    "avp_time = xr.DataArray(pd.to_datetime(avp.time))\n",
    "doy = avp_time.dt.dayofyear"
   ]
  },
  {
   "cell_type": "code",
   "execution_count": null,
   "id": "62009c8f-c801-48c8-a327-a056780948ab",
   "metadata": {},
   "outputs": [],
   "source": [
    "# doy\n",
    "DOY = xr.DataArray(doy, dims='time', coords={'time': avp.time})"
   ]
  },
  {
   "cell_type": "code",
   "execution_count": null,
   "id": "fb35816c-39a1-4afd-8724-ceaa53116d23",
   "metadata": {},
   "outputs": [],
   "source": [
    "# now we compute the relative dista\n",
    "inverse_rel_dist = inv_rel_dist_earth_sun(DOY)"
   ]
  },
  {
   "cell_type": "markdown",
   "id": "a385bc03-e661-436b-a21b-f5547bc58826",
   "metadata": {},
   "source": [
    "### 4.8.2 Solar declination"
   ]
  },
  {
   "cell_type": "code",
   "execution_count": null,
   "id": "6422dff8-3062-4b60-8013-ef3b4faf0e67",
   "metadata": {},
   "outputs": [],
   "source": [
    "# function for solar declination\n",
    "def sol_dec(day_of_year):\n",
    "    \"\"\"\n",
    "    Calculate solar declination from day of the year.\n",
    "\n",
    "    Based on FAO equation 24 in Allen et al (1998).\n",
    "\n",
    "    :param day_of_year: Day of year integer between 1 and 365 or 366).\n",
    "    :return: solar declination [radians]\n",
    "    :rtype: float\n",
    "    \"\"\"\n",
    "    ### _check_doy(day_of_year) # in the original code this is imported to check that DOY is between 0 and 366\n",
    "    return 0.409 * np.sin(((2.0 * np.pi / 365.0) * day_of_year - 1.39))"
   ]
  },
  {
   "cell_type": "code",
   "execution_count": null,
   "id": "d30d96b6-6439-42bb-9321-6fdf3e947efb",
   "metadata": {},
   "outputs": [],
   "source": [
    "solar_declination = sol_dec(DOY)"
   ]
  },
  {
   "cell_type": "markdown",
   "id": "cbe94e11-8db4-478b-82ea-4345130cae32",
   "metadata": {},
   "source": [
    "## 4.9 Convert latitude from degrees to radians [rad]"
   ]
  },
  {
   "cell_type": "code",
   "execution_count": null,
   "id": "a710f6d7-646e-4a4d-9677-9a31187fd9c9",
   "metadata": {},
   "outputs": [],
   "source": [
    "# convert (can take any variables)\n",
    "latitude_rad = avp['latitude'] * np.pi / 180"
   ]
  },
  {
   "cell_type": "markdown",
   "id": "93e28b01-3e6b-40f6-a287-817428239bab",
   "metadata": {},
   "source": [
    "## 4.10 Sunset hour angle\n",
    "IMPORTANT: the function is modified to remove the min max part and also the checks are removed"
   ]
  },
  {
   "cell_type": "code",
   "execution_count": null,
   "id": "eb5f52d3-5359-4a39-8c85-3897919a272d",
   "metadata": {},
   "outputs": [],
   "source": [
    "def sunset_hour_angle(latitude, sol_dec):\n",
    "    \"\"\"\n",
    "    Calculate sunset hour angle (*Ws*) from latitude and solar\n",
    "    declination.\n",
    "\n",
    "    Based on FAO equation 25 in Allen et al (1998).\n",
    "\n",
    "    :param latitude: Latitude [radians]. Note: *latitude* should be negative\n",
    "        if it in the southern hemisphere, positive if in the northern\n",
    "        hemisphere.\n",
    "    :param sol_dec: Solar declination [radians]. Can be calculated using\n",
    "        ``sol_dec()``.\n",
    "    :return: Sunset hour angle [radians].\n",
    "    :rtype: float\n",
    "    \"\"\"\n",
    "    ### _check_latitude_rad(latitude)\n",
    "    ### _check_sol_dec_rad(sol_dec)\n",
    "\n",
    "    cos_sha = -np.tan(latitude) * np.tan(sol_dec)\n",
    "    # If tmp is >= 1 there is no sunset, i.e. 24 hours of daylight\n",
    "    # If tmp is <= 1 there is no sunrise, i.e. 24 hours of darkness\n",
    "    # See http://www.itacanet.org/the-sun-as-a-source-of-energy/\n",
    "    # part-3-calculating-solar-angles/\n",
    "    # Domain of acos is -1 <= x <= 1 radians (this is not mentioned in FAO-56!)\n",
    "    \n",
    "    \n",
    "    ### return np.arccos(np.min(np.max(cos_sha, -1.0), 1.0)) # removed\n",
    "    return np.arccos(cos_sha)"
   ]
  },
  {
   "cell_type": "code",
   "execution_count": null,
   "id": "0e366ba7-a61c-43d5-b392-51ce6cf7c456",
   "metadata": {},
   "outputs": [],
   "source": [
    "sunset_angle = sunset_hour_angle(latitude_rad, solar_declination)"
   ]
  },
  {
   "cell_type": "markdown",
   "id": "f21d4491-c6f7-4502-bbb1-9066c6a8e5bd",
   "metadata": {},
   "source": [
    "## 4.11 Extraterrestrial radiation [MJ / m^2 / d]"
   ]
  },
  {
   "cell_type": "code",
   "execution_count": null,
   "id": "0848d88c-63cf-4cca-b35a-7d67d26b5db0",
   "metadata": {},
   "outputs": [],
   "source": [
    "# function \n",
    "def et_rad(latitude, sol_dec, sha, ird):\n",
    "    \"\"\"\n",
    "    Estimate daily extraterrestrial radiation (*Ra*, 'top of the atmosphere\n",
    "    radiation').\n",
    "\n",
    "    Based on equation 21 in Allen et al (1998). If monthly mean radiation is\n",
    "    required make sure *sol_dec*. *sha* and *irl* have been calculated using\n",
    "    the day of the year that corresponds to the middle of the month.\n",
    "\n",
    "    **Note**: From Allen et al (1998): \"For the winter months in latitudes\n",
    "    greater than 55 degrees (N or S), the equations have limited validity.\n",
    "    Reference should be made to the Smithsonian Tables to assess possible\n",
    "    deviations.\"\n",
    "\n",
    "    :param latitude: Latitude [radians]\n",
    "    :param sol_dec: Solar declination [radians]. Can be calculated using\n",
    "        ``sol_dec()``.\n",
    "    :param sha: Sunset hour angle [radians]. Can be calculated using\n",
    "        ``sunset_hour_angle()``.\n",
    "    :param ird: Inverse relative distance earth-sun [dimensionless]. Can be\n",
    "        calculated using ``inv_rel_dist_earth_sun()``.\n",
    "    :return: Daily extraterrestrial radiation [MJ m-2 day-1]\n",
    "    :rtype: float\n",
    "    \"\"\"\n",
    "    ### _check_latitude_rad(latitude)\n",
    "    ### _check_sol_dec_rad(sol_dec)\n",
    "    ### _check_sunset_hour_angle_rad(sha)\n",
    "\n",
    "    tmp1 = (24.0 * 60.0) / np.pi\n",
    "    tmp2 = sha * np.sin(latitude) * np.sin(sol_dec)\n",
    "    tmp3 = np.cos(latitude) * np.cos(sol_dec) * np.sin(sha)\n",
    "    return tmp1 * SOLAR_CONSTANT * ird * (tmp2 + tmp3)"
   ]
  },
  {
   "cell_type": "code",
   "execution_count": null,
   "id": "5d10740c-b570-41ad-94cb-c138fdd5a3c3",
   "metadata": {},
   "outputs": [],
   "source": [
    "# calculate \n",
    "SOLAR_CONSTANT = 0.0820\n",
    "\n",
    "extraterrestrial_radiation = et_rad(latitude_rad, solar_declination, sunset_angle, inverse_rel_dist)"
   ]
  },
  {
   "cell_type": "markdown",
   "id": "6f040791-4283-41a7-9d36-54281bfa6799",
   "metadata": {},
   "source": [
    "## 4.12 Clear-sky radiation [MJ / m2 / d]"
   ]
  },
  {
   "cell_type": "code",
   "execution_count": null,
   "id": "ca351278-9f15-4527-ad8d-1af8e291fdb2",
   "metadata": {},
   "outputs": [],
   "source": [
    "# function \n",
    "def cs_rad(altitude, et_rad):\n",
    "    \"\"\"\n",
    "    Estimate clear sky radiation from altitude and extraterrestrial radiation.\n",
    "\n",
    "    Based on equation 37 in Allen et al (1998) which is recommended when\n",
    "    calibrated Angstrom values are not available.\n",
    "\n",
    "    :param altitude: Elevation above sea level [m]\n",
    "    :param et_rad: Extraterrestrial radiation [MJ m-2 day-1]. Can be\n",
    "        estimated using ``et_rad()``.\n",
    "    :return: Clear sky radiation [MJ m-2 day-1]\n",
    "    :rtype: float\n",
    "    \"\"\"\n",
    "    \n",
    "    ### added\n",
    "    altitude_exp = altitude.expand_dims(time=et_rad.time)\n",
    "    \n",
    "\n",
    "    return (0.00002 * altitude_exp + 0.75) * et_rad"
   ]
  },
  {
   "cell_type": "code",
   "execution_count": null,
   "id": "50469135-2264-4e60-a1f2-81551e25113c",
   "metadata": {},
   "outputs": [],
   "source": [
    "# Define the longitude values from 6.05 to 17.95 with a step of 0.1\n",
    "longitude_values = np.arange(8.04986, 18.04986, 0.1)\n",
    "\n",
    "# Create a DataArray with the longitude values and latitude coordinate\n",
    "longitude_da = xr.DataArray(longitude_values, dims=['longitude'])\n",
    "\n",
    "# Broadcast the extraterrestrial_radiation DataArray along the longitude dimension\n",
    "extraterrestrial_radiation_gridded = extraterrestrial_radiation.expand_dims(longitude=longitude_values, axis=1)\n",
    "\n",
    "# Add the longitude values as an attribute\n",
    "### extraterrestrial_radiation_gridded.attrs['longitude'] = longitude_values\n",
    "\n",
    "# Now the 'extraterrestrial_radiation_gridded' DataArray has dimensions (latitude=70, longitude=120, time=14976) and the 'longitude_values' as an attribute."
   ]
  },
  {
   "cell_type": "code",
   "execution_count": null,
   "id": "2dde25ab-acd2-4943-875c-c09f3cd592d7",
   "metadata": {},
   "outputs": [],
   "source": [
    "extraterrestrial_radiation_gridded.rio.write_crs(\"epsg:4326\", inplace=True)"
   ]
  },
  {
   "cell_type": "code",
   "execution_count": null,
   "id": "54cb0573-8ab3-4b54-ba9f-3de9bba564b9",
   "metadata": {},
   "outputs": [],
   "source": [
    "# compute manually\n",
    "\n",
    "# Convert DataArrays to NumPy arrays\n",
    "altitude_np = ELEV_cl_xr.values\n",
    "et_rad_np = extraterrestrial_radiation_gridded.values\n",
    "\n",
    "# Get the shapes of the arrays\n",
    "shape_altitude = altitude_np.shape\n",
    "shape_et_rad = et_rad_np.shape\n",
    "\n",
    "# Reshape altitude to match the shape of et_rad (insert a new dimension at index 2)\n",
    "altitude_np_reshaped = altitude_np[:, :, np.newaxis]\n",
    "\n",
    "# Transpose et_rad to have the same axis order as altitude\n",
    "et_rad_np_transposed = np.transpose(et_rad_np, axes=(2, 1, 0))\n",
    "\n",
    "# Perform element-wise calculation using NumPy arrays\n",
    "cs_rad_np = (0.00002 * altitude_np_reshaped + 0.75) * et_rad_np_transposed"
   ]
  },
  {
   "cell_type": "code",
   "execution_count": null,
   "id": "fa0f9c55-5c0e-49a6-9255-0672b4aecd53",
   "metadata": {},
   "outputs": [],
   "source": [
    "clear_sky_radiation = xr.DataArray(cs_rad_np, dims=['latitude', 'longitude', 'time'])\n",
    "\n",
    "# Copy the coordinates from extraterrestrial_radiation_gridded to cs_rad_dataarray\n",
    "clear_sky_radiation = clear_sky_radiation.assign_coords(\n",
    "    latitude=extraterrestrial_radiation_gridded['latitude'],\n",
    "    longitude=extraterrestrial_radiation_gridded['longitude'],\n",
    "    time=extraterrestrial_radiation_gridded['time'])"
   ]
  },
  {
   "cell_type": "code",
   "execution_count": null,
   "id": "21f72a21-82b2-48e5-b83b-aae8fcc62817",
   "metadata": {},
   "outputs": [],
   "source": [
    "clear_sky_radiation = clear_sky_radiation.transpose('time', 'latitude', 'longitude')"
   ]
  },
  {
   "cell_type": "markdown",
   "id": "bb8d3986-654c-4edc-811f-61aa1c63cd2b",
   "metadata": {},
   "source": [
    "## 4.13 Net shortwave radiaiton [MJ / m2 / d]\n",
    "This is calculated based on only observations of shortwave radiation frmo EOBs and albedo fmor ERA5Land"
   ]
  },
  {
   "cell_type": "code",
   "execution_count": null,
   "id": "ef4346b6-ea40-4082-a6f6-5c9e7fcece86",
   "metadata": {},
   "outputs": [],
   "source": [
    "# function \n",
    "def net_in_sol_rad(sol_rad, albedo=0.23):\n",
    "    \"\"\"\n",
    "    Calculate net incoming solar (or shortwave) radiation from gross\n",
    "    incoming solar radiation, assuming a grass reference crop.\n",
    "\n",
    "    Net incoming solar radiation is the net shortwave radiation resulting\n",
    "    from the balance between incoming and reflected solar radiation. The\n",
    "    output can be converted to equivalent evaporation [mm day-1] using\n",
    "    ``energy2evap()``.\n",
    "\n",
    "    Based on FAO equation 38 in Allen et al (1998).\n",
    "\n",
    "    :param sol_rad: Gross incoming solar radiation [MJ m-2 day-1]. If\n",
    "        necessary this can be estimated using functions whose name\n",
    "        begins with 'sol_rad_from'.\n",
    "    :param albedo: Albedo of the crop as the proportion of gross incoming solar\n",
    "        radiation that is reflected by the surface. Default value is 0.23,\n",
    "        which is the value used by the FAO for a short grass reference crop.\n",
    "        Albedo can be as high as 0.95 for freshly fallen snow and as low as\n",
    "        0.05 for wet bare soil. A green vegetation over has an albedo of\n",
    "        about 0.20-0.25 (Allen et al, 1998).\n",
    "    :return: Net incoming solar (or shortwave) radiation [MJ m-2 day-1].\n",
    "    :rtype: float\n",
    "    \"\"\"\n",
    "    return (1 - albedo) * sol_rad"
   ]
  },
  {
   "cell_type": "code",
   "execution_count": null,
   "id": "07b92887-fc51-43bb-a6fd-9a6a16c36588",
   "metadata": {},
   "outputs": [],
   "source": [
    "# compute net radiation based on \n",
    "\n",
    "#####\n",
    "\"\"\"units\"\"\"\n",
    "#####\n",
    "\n",
    "net_shortwave_radiation_temp = net_in_sol_rad(QQ_cl_xr_mj.values, ALB_cl_xr.values)"
   ]
  },
  {
   "cell_type": "code",
   "execution_count": null,
   "id": "3b25e614-ca00-4be0-aa6d-907f597929b2",
   "metadata": {},
   "outputs": [],
   "source": [
    "# re-assign lat lon time \n",
    "net_shortwave_radiation = xr.DataArray(net_shortwave_radiation_temp, coords={'latitude': QQ_cl_xr_mj['latitude'], 'longitude': QQ_cl_xr_mj['longitude'], 'time': QQ_cl_xr_mj['time']}, dims=['time', 'latitude', 'longitude'])\n"
   ]
  },
  {
   "cell_type": "markdown",
   "id": "3ab40ef3-645b-48b9-835a-62d978d6a96d",
   "metadata": {},
   "source": [
    "## 4.14 Net outgoing longwave radiation [MJ / m2 / d]\n",
    "Based on: \n",
    "- Tmin (EOBS) **Watch out: in Kelvin! So + 273.15** \n",
    "- Tmax (EOBS) **Watch out: in Kelvin! So + 273.15** \n",
    "- Incoming shortwave radiation (EOBS) \n",
    "- Clear-sky radiation (calculated) \n",
    "- Actual vapour pressure (calculated) "
   ]
  },
  {
   "cell_type": "code",
   "execution_count": null,
   "id": "fa1da687-a43d-425e-9bf8-d59ca23bc304",
   "metadata": {},
   "outputs": [],
   "source": [
    "# function \n",
    "def net_out_lw_rad(tmin, tmax, sol_rad, cs_rad, avp):\n",
    "    \"\"\"\n",
    "    Estimate net outgoing longwave radiation.\n",
    "\n",
    "    This is the net longwave energy (net energy flux) leaving the\n",
    "    earth's surface. It is proportional to the absolute temperature of\n",
    "    the surface raised to the fourth power according to the Stefan-Boltzmann\n",
    "    law. However, water vapour, clouds, carbon dioxide and dust are absorbers\n",
    "    and emitters of longwave radiation. This function corrects the Stefan-\n",
    "    Boltzmann law for humidity (using actual vapor pressure) and cloudiness\n",
    "    (using solar radiation and clear sky radiation). The concentrations of all\n",
    "    other absorbers are assumed to be constant.\n",
    "\n",
    "    The output can be converted to equivalent evaporation [mm day-1] using\n",
    "    ``energy2evap()``.\n",
    "\n",
    "    Based on FAO equation 39 in Allen et al (1998).\n",
    "\n",
    "    :param tmin: Absolute daily minimum temperature [degrees Kelvin]\n",
    "    :param tmax: Absolute daily maximum temperature [degrees Kelvin]\n",
    "    :param sol_rad: Solar radiation [MJ m-2 day-1]. If necessary this can be\n",
    "        estimated using ``sol+rad()``.\n",
    "    :param cs_rad: Clear sky radiation [MJ m-2 day-1]. Can be estimated using\n",
    "        ``cs_rad()``.\n",
    "    :param avp: Actual vapour pressure [kPa]. Can be estimated using functions\n",
    "        with names beginning with 'avp_from'.\n",
    "    :return: Net outgoing longwave radiation [MJ m-2 day-1]\n",
    "    :rtype: float\n",
    "    \"\"\"\n",
    "    \n",
    "    \n",
    "    ############## add 273.15 here for Kelvin, correct??\n",
    "    tmp1 = (STEFAN_BOLTZMANN_CONSTANT *\n",
    "        ((np.power((tmax+273.15), 4) + np.power((tmin+273.15), 4)) / 2))\n",
    "    tmp2 = (0.34 - (0.14 * np.sqrt(avp)))\n",
    "    tmp3 = 1.35 * (sol_rad / cs_rad) - 0.35\n",
    "    return tmp1 * tmp2 * tmp3"
   ]
  },
  {
   "cell_type": "code",
   "execution_count": null,
   "id": "e10dd5af-f527-4a9d-b713-e93f83e3048b",
   "metadata": {},
   "outputs": [],
   "source": [
    "# Stefan Boltzmann constant [MJ K-4 m-2 day-1]\n",
    "STEFAN_BOLTZMANN_CONSTANT = 0.000000004903  #\n",
    "\"\"\"Stefan Boltzmann constant [MJ K-4 m-2 day-1]\"\"\""
   ]
  },
  {
   "cell_type": "code",
   "execution_count": null,
   "id": "e775fa9a-4176-4dd3-9a5d-a7c05d7b807f",
   "metadata": {},
   "outputs": [],
   "source": [
    "# calculate \n",
    "####\n",
    "\"\"\"units\"\"\"\n",
    "\"\"\"Makse sure not only QQ is the right units, also the equation above has been adjusted to correct the °C input to Kelvin\"\"\"\n",
    "####\n",
    "\n",
    "\n",
    "net_out_longwave_np = net_out_lw_rad(TN_cl_xr.values, TX_cl_xr, QQ_cl_xr_mj.values, clear_sky_radiation.values, avp.values)\n",
    "\n"
   ]
  },
  {
   "cell_type": "code",
   "execution_count": null,
   "id": "2a750d72-26da-4a2c-b9ba-2616b8692389",
   "metadata": {},
   "outputs": [],
   "source": [
    "# re-assign lat lon time \n",
    "net_out_longwave = xr.DataArray(net_out_longwave_np, coords={'latitude': QQ_cl_xr_mj['latitude'], 'longitude': QQ_cl_xr_mj['longitude'], 'time': QQ_cl_xr_mj['time']}, dims=['time', 'latitude', 'longitude'])\n"
   ]
  },
  {
   "cell_type": "markdown",
   "id": "32dc39a4-9d70-4651-bf7f-475ae04c8d2f",
   "metadata": {},
   "source": [
    "## 4.15 Net Radiation [MJ / m2 / d]\n",
    "Rn = Rns_in - Rnl_out"
   ]
  },
  {
   "cell_type": "code",
   "execution_count": null,
   "id": "683e213e-a4e3-4534-88ab-8bbdfcc7052a",
   "metadata": {},
   "outputs": [],
   "source": [
    "net_radiation = net_shortwave_radiation - net_out_longwave"
   ]
  },
  {
   "cell_type": "code",
   "execution_count": null,
   "id": "99e698b4-e588-43ed-b024-70bd3d3cbb52",
   "metadata": {},
   "outputs": [],
   "source": [
    "net_radiation"
   ]
  },
  {
   "cell_type": "code",
   "execution_count": null,
   "id": "125c5fd0-ec94-48ce-b046-3955462579dd",
   "metadata": {},
   "outputs": [],
   "source": []
  },
  {
   "cell_type": "markdown",
   "id": "97dbd31c-e6c8-432e-a470-fb3358103e71",
   "metadata": {},
   "source": [
    "## 4.16 Reference Evapotranspiration\n",
    "- **Pay attention and double-check the units**\n",
    "- Either correct for Kelvin or use Kelvin as input"
   ]
  },
  {
   "cell_type": "code",
   "execution_count": null,
   "id": "5c748869-2433-4572-bb22-365b0b82df7e",
   "metadata": {},
   "outputs": [],
   "source": [
    "### modified with temperature correction for Kelcin\n",
    "def fao56_penman_monteith(net_rad, t, ws, svp, avp, delta_svp, psy, shf=0.0):\n",
    "    \"\"\"\n",
    "    Estimate reference evapotranspiration (ETo) from a hypothetical\n",
    "    short grass reference surface using the FAO-56 Penman-Monteith equation.\n",
    "\n",
    "    Based on equation 6 in Allen et al (1998).\n",
    "\n",
    "    :param net_rad: Net radiation at crop surface [MJ m-2 day-1]. If\n",
    "        necessary this can be estimated using ``net_rad()``.\n",
    "    :param t: Air temperature at 2 m height [deg Kelvin].\n",
    "    :param ws: Wind speed at 2 m height [m s-1]. If not measured at 2m,\n",
    "        convert using ``wind_speed_at_2m()``.\n",
    "    :param svp: Saturation vapour pressure [kPa]. Can be estimated using\n",
    "        ``svp_from_t()''.\n",
    "    :param avp: Actual vapour pressure [kPa]. Can be estimated using a range\n",
    "        of functions with names beginning with 'avp_from'.\n",
    "    :param delta_svp: Slope of saturation vapour pressure curve [kPa degC-1].\n",
    "        Can be estimated using ``delta_svp()``.\n",
    "    :param psy: Psychrometric constant [kPa deg C]. Can be estimatred using\n",
    "        ``psy_const_of_psychrometer()`` or ``psy_const()``.\n",
    "    :param shf: Soil heat flux (G) [MJ m-2 day-1] (default is 0.0, which is\n",
    "        reasonable for a daily or 10-day time steps). For monthly time steps\n",
    "        *shf* can be estimated using ``monthly_soil_heat_flux()`` or\n",
    "        ``monthly_soil_heat_flux2()``.\n",
    "    :return: Reference evapotranspiration (ETo) from a hypothetical\n",
    "        grass reference surface [mm day-1].\n",
    "    :rtype: float\n",
    "    \"\"\"\n",
    "    a1 = (0.408 * (net_rad - shf) * delta_svp /\n",
    "          (delta_svp + (psy * (1 + 0.34 * ws))))\n",
    "    a2 = (900 * ws / (t + 273.15) * (svp - avp) * psy /\n",
    "          (delta_svp + (psy * (1 + 0.34 * ws))))\n",
    "    return a1 + a2"
   ]
  },
  {
   "cell_type": "code",
   "execution_count": null,
   "id": "0c486830-0f98-40d8-aebb-9606922a4f32",
   "metadata": {},
   "outputs": [],
   "source": [
    "# compute\n",
    "ET0 = fao56_penman_monteith(net_radiation.values, TG_cl_xr.values, FG_cl_xr_2m.values, svp_mean.values, avp.values, delta_svp.values, psych_const.values)\n"
   ]
  },
  {
   "cell_type": "code",
   "execution_count": null,
   "id": "1437e1a6-18a0-4caa-82c0-4fbb8d200e25",
   "metadata": {},
   "outputs": [],
   "source": [
    "ET0"
   ]
  },
  {
   "cell_type": "code",
   "execution_count": null,
   "id": "4bebca8b-0458-4757-915d-1991481c337e",
   "metadata": {},
   "outputs": [],
   "source": [
    "# save dataarray as netcdf file \n",
    "ET0_fao = xr.DataArray(ET0, coords={'latitude': TG_cl_xr['latitude'], 'longitude': TG_cl_xr['longitude'], 'time': TG_cl_xr['time']}, dims=['time', 'latitude', 'longitude'])"
   ]
  },
  {
   "cell_type": "code",
   "execution_count": null,
   "id": "0eaf5a0e-8619-41c8-bc99-365e7f2fbd8e",
   "metadata": {},
   "outputs": [],
   "source": [
    "date_test = \"1981-07-01\"\n",
    "plot = ET0_fao.sel(time=date_test)\n",
    "plot.plot()"
   ]
  },
  {
   "cell_type": "code",
   "execution_count": null,
   "id": "78cbb04f-650d-495e-a662-95a9f3885863",
   "metadata": {},
   "outputs": [],
   "source": [
    "# Step 5: Save the result to a new netCDF file\n",
    "ET0_fao.to_netcdf('/Users/jonathanschieren/Desktop/msc_thesis/data/e_obs/ET0_penman_monteith_fao_itp.nc')"
   ]
  },
  {
   "cell_type": "code",
   "execution_count": null,
   "id": "a97e2373-8c90-4cd3-a4f7-f93b2bd07d0d",
   "metadata": {},
   "outputs": [],
   "source": [
    "# plot it \n",
    "date_test = \"1981-01-01\"\n",
    "plot = ET0_fao.sel(time=date_test)\n",
    "plot.plot()"
   ]
  },
  {
   "cell_type": "markdown",
   "id": "303131d7-9164-45d2-8031-0f47cce134c9",
   "metadata": {},
   "source": [
    "Final variables: \n",
    "- temperature not changed [°C]\n",
    "- wind: FG:cl_xr_2m [m/s]\n",
    "- slope of saturation vapour pressure curve: delta_svp [kPa / °C]\n",
    "- Atmospheric pressure: p_atmos[kPa] - not a time series\n",
    "- psychrometric constant: psych_const [kPa / °C] - not a time series\n",
    "- mean saturation vapour pressure: svp_mean [kPa]\n",
    "- inverse relative disctance: inverse_rel_dist [m ??]\n",
    "- solar declination: solar_declination\n",
    "- sunset_angle\n",
    "- extraterrestrial_radiation [MJ / m2 / d]\n",
    "- clear_sky_radiation\n",
    "- net_shortwave_radiation\n",
    "- net_out_longwave\n",
    "- net_radiation"
   ]
  },
  {
   "cell_type": "markdown",
   "id": "c76ee716-3b43-4531-92d5-5bb884906e87",
   "metadata": {
    "tags": []
   },
   "source": [
    "# 5. Zonal Stats with Area Weightings (uxing Xagg)\n",
    "https://climateestimate.net/content/example-step3.html"
   ]
  },
  {
   "cell_type": "code",
   "execution_count": null,
   "id": "683b0473-5e91-4811-9011-8307d4ba4380",
   "metadata": {},
   "outputs": [],
   "source": [
    "# create weightmap, can be any variable I think\n",
    "weightmap = xa.pixel_overlaps(RR_cl_xr, shape_C_4326,subset_bbox=False)\n"
   ]
  },
  {
   "cell_type": "code",
   "execution_count": null,
   "id": "4c0f6cf7-68e8-4c73-bea7-7e30ebd0a0bc",
   "metadata": {},
   "outputs": [],
   "source": [
    "# weightmap PET last (it's the same just repeating) \n",
    "weightmap = xa.pixel_overlaps(PET_last_mm_cl_xr, shape_C_4326,subset_bbox=False)"
   ]
  },
  {
   "cell_type": "code",
   "execution_count": null,
   "id": "037459ce-20ce-4a62-9b09-cb5b0d44b742",
   "metadata": {},
   "outputs": [],
   "source": [
    "# weightmap PET last (it's the same just repeating) \n",
    "weightmap = xa.pixel_overlaps(ET0_fao, shape_C_4326,subset_bbox=False)"
   ]
  },
  {
   "cell_type": "markdown",
   "id": "3758039f-eaaf-406d-ab10-2a710e1fede3",
   "metadata": {},
   "source": [
    "## 5.1 Aggregate EOBS vars, Albedo and PET to catchments"
   ]
  },
  {
   "cell_type": "code",
   "execution_count": null,
   "id": "f895ab31-10a4-4da5-b829-239c91fff7c9",
   "metadata": {},
   "outputs": [],
   "source": [
    "# minimum temperature\n",
    "TN_aggregated_xagg = xa.aggregate(TN_cl_xr, weightmap)"
   ]
  },
  {
   "cell_type": "code",
   "execution_count": null,
   "id": "69d79ded-d880-460b-8fa7-fde1791664dc",
   "metadata": {},
   "outputs": [],
   "source": [
    "# save to csv \n",
    "TN_aggregated_xagg.to_csv('/Users/jonathanschieren/Desktop/msc_thesis/data/e_obs/xagg_new/TN_aggregated_xagg_xr.csv')"
   ]
  },
  {
   "cell_type": "code",
   "execution_count": null,
   "id": "9bafdb96-3f8f-46d0-bf2b-415197790168",
   "metadata": {},
   "outputs": [],
   "source": [
    "# mean temperature\n",
    "TG_aggregated_xagg = xa.aggregate(TG_cl_xr, weightmap)"
   ]
  },
  {
   "cell_type": "code",
   "execution_count": null,
   "id": "36753313-64fd-4767-bc6a-e6e743c1ca73",
   "metadata": {},
   "outputs": [],
   "source": [
    "# save to csv\n",
    "TG_aggregated_xagg.to_csv('/Users/jonathanschieren/Desktop/msc_thesis/data/e_obs/xagg_new/TG_aggregated_xagg_xr.csv')"
   ]
  },
  {
   "cell_type": "code",
   "execution_count": null,
   "id": "45a1e702-adf9-424b-bafe-aa365f51a42c",
   "metadata": {},
   "outputs": [],
   "source": [
    "# maximum temperature\n",
    "TX_aggregated_xagg = xa.aggregate(TX_cl_xr, weightmap)"
   ]
  },
  {
   "cell_type": "code",
   "execution_count": null,
   "id": "4ffc1d47-ae79-4926-aa2c-001c3254a3cb",
   "metadata": {},
   "outputs": [],
   "source": [
    "# save to csv\n",
    "TX_aggregated_xagg.to_csv('/Users/jonathanschieren/Desktop/msc_thesis/data/e_obs/xagg_new/TX_aggregated_xagg_xr.csv')"
   ]
  },
  {
   "cell_type": "code",
   "execution_count": null,
   "id": "02bcf761-c50f-4b89-8a28-0ecb4692007a",
   "metadata": {},
   "outputs": [],
   "source": [
    "# precipitation \n",
    "RR_aggregated_xagg = xa.aggregate(RR_cl_xr, weightmap)"
   ]
  },
  {
   "cell_type": "code",
   "execution_count": null,
   "id": "7eeff6dd-2b7a-44cf-bfad-466780ece41a",
   "metadata": {},
   "outputs": [],
   "source": [
    "# save to csv \n",
    "RR_aggregated_xagg.to_csv('/Users/jonathanschieren/Desktop/msc_thesis/data/e_obs/xagg_new/RR_aggregated_xagg_xr.csv')\n"
   ]
  },
  {
   "cell_type": "code",
   "execution_count": null,
   "id": "c0a32f25-bc53-420d-b0bd-45158f0ce408",
   "metadata": {},
   "outputs": [],
   "source": [
    "# sea level pressure\n",
    "PP_aggregated_xagg = xa.aggregate(PP_cl_xr, weightmap)"
   ]
  },
  {
   "cell_type": "code",
   "execution_count": null,
   "id": "b03aae31-e2ff-40b1-abfc-b50c3dea77a8",
   "metadata": {},
   "outputs": [],
   "source": [
    "# save to csv \n",
    "PP_aggregated_xagg.to_csv('/Users/jonathanschieren/Desktop/msc_thesis/data/e_obs/xagg_new/PP_aggregated_xagg_xr.csv')\n"
   ]
  },
  {
   "cell_type": "code",
   "execution_count": null,
   "id": "d2482003-e831-4d3d-96a8-1be8826f71b7",
   "metadata": {},
   "outputs": [],
   "source": [
    "# relative humidity \n",
    "HU_aggregated_xagg = xa.aggregate(HU_cl_xr, weightmap)"
   ]
  },
  {
   "cell_type": "code",
   "execution_count": null,
   "id": "714d00b3-4019-4189-8272-12a4d19cd2d1",
   "metadata": {},
   "outputs": [],
   "source": [
    "# save to csv \n",
    "HU_aggregated_xagg.to_csv('/Users/jonathanschieren/Desktop/msc_thesis/data/e_obs/xagg_new/HU_aggregated_xagg_xr.csv')\n"
   ]
  },
  {
   "cell_type": "code",
   "execution_count": null,
   "id": "556408e8-7cc6-4604-98af-a66f67e1adc6",
   "metadata": {},
   "outputs": [],
   "source": [
    "# wind speed # make sure to take the right one! \n",
    "# we are now taking the original at 10 m, not the one we used in the Penman equation\n",
    "FG_aggregated_xagg = xa.aggregate(FG_cl_xr_shifted, weightmap)"
   ]
  },
  {
   "cell_type": "code",
   "execution_count": null,
   "id": "f0cf8bf4-d65f-47c5-a0ec-ec421c0e27c8",
   "metadata": {},
   "outputs": [],
   "source": [
    "# save to csv \n",
    "FG_aggregated_xagg.to_csv('/Users/jonathanschieren/Desktop/msc_thesis/data/e_obs/xagg_new/FG_aggregated_xagg_xr.csv')\n"
   ]
  },
  {
   "cell_type": "code",
   "execution_count": null,
   "id": "9fa7a333-509b-48a7-86dc-9032e410f6b9",
   "metadata": {},
   "outputs": [],
   "source": [
    "# shortwave radiation \n",
    "QQ_aggregated_xagg = xa.aggregate(QQ_cl_xr, weightmap)"
   ]
  },
  {
   "cell_type": "code",
   "execution_count": null,
   "id": "fc2ec39d-7806-48bd-a48c-982bc55285ce",
   "metadata": {},
   "outputs": [],
   "source": [
    "# save to csv \n",
    "QQ_aggregated_xagg.to_csv('/Users/jonathanschieren/Desktop/msc_thesis/data/e_obs/xagg_new/QQ_aggregated_xagg_xr.csv')\n"
   ]
  },
  {
   "cell_type": "code",
   "execution_count": null,
   "id": "c13923c2-b5b0-487c-9d91-4578d1f21cf9",
   "metadata": {},
   "outputs": [],
   "source": [
    "# albedo \n",
    "ALB_aggregated_xagg = xa.aggregate(ALB_cl_xr, weightmap)"
   ]
  },
  {
   "cell_type": "code",
   "execution_count": null,
   "id": "1fc8444c-3a2f-4df9-a279-bb4cd28331ac",
   "metadata": {},
   "outputs": [],
   "source": [
    "# save to csv \n",
    "ALB_aggregated_xagg.to_csv('/Users/jonathanschieren/Desktop/msc_thesis/data/e_obs/xagg_new/ALB_aggregated_xagg_xr.csv')"
   ]
  },
  {
   "cell_type": "code",
   "execution_count": null,
   "id": "92888f0e-cdd7-47b1-b2b5-f5961841229e",
   "metadata": {},
   "outputs": [],
   "source": [
    "# calculated PET fao \n",
    "# albedo \n",
    "ET0_fao_aggregated_xagg = xa.aggregate(ET0_fao, weightmap)"
   ]
  },
  {
   "cell_type": "code",
   "execution_count": null,
   "id": "b331695d-bb41-4d1c-ad87-dbda81435156",
   "metadata": {},
   "outputs": [],
   "source": [
    "# save to csv \n",
    "ET0_fao_aggregated_xagg.to_csv('/Users/jonathanschieren/Desktop/msc_thesis/data/e_obs/xagg_new/ET0_fao_aggregated_xagg_xr.csv')\n"
   ]
  },
  {
   "cell_type": "code",
   "execution_count": null,
   "id": "29454b01-4bb5-4cfe-ab31-5f2425d61aab",
   "metadata": {},
   "outputs": [],
   "source": [
    "# PET from ERA5Land last\n",
    "PET_last_aggregated_xagg = xa.aggregate(PET_last_mm_cl_xr, weightmap)"
   ]
  },
  {
   "cell_type": "code",
   "execution_count": null,
   "id": "366b1b62-4dc8-4357-91f4-d395acd1f8bb",
   "metadata": {},
   "outputs": [],
   "source": [
    "# save to CSV\n",
    "PET_last_aggregated_xagg.to_csv('/Users/jonathanschieren/Desktop/msc_thesis/data/e_obs/xagg_new/PET_last_era5land_aggregated_xagg_xr.csv')\n"
   ]
  },
  {
   "cell_type": "markdown",
   "id": "c7f8d777-a791-4c69-8f16-c38a782fdd65",
   "metadata": {
    "tags": []
   },
   "source": [
    "## 5.2 Save as individual catchments"
   ]
  },
  {
   "cell_type": "code",
   "execution_count": null,
   "id": "dd787e64-4050-45f9-951c-d4b33492056d",
   "metadata": {},
   "outputs": [],
   "source": [
    "# load minimum temp\n",
    "TN_xagg = pd.read_csv('/Users/jonathanschieren/Desktop/msc_thesis/data/e_obs/xagg_new/TN_aggregated_xagg_xr.csv', usecols=['ID', 'time', 'tn'])"
   ]
  },
  {
   "cell_type": "code",
   "execution_count": null,
   "id": "74023739-6dbb-4baf-a635-6a83c79070ba",
   "metadata": {},
   "outputs": [],
   "source": [
    "# load mean temp\n",
    "TG_xagg = pd.read_csv('/Users/jonathanschieren/Desktop/msc_thesis/data/e_obs/xagg_new/TG_aggregated_xagg_xr.csv', usecols=['ID', 'time', 'tg'])"
   ]
  },
  {
   "cell_type": "code",
   "execution_count": null,
   "id": "67aed71b-78fd-481a-b863-aa498e8e81d8",
   "metadata": {},
   "outputs": [],
   "source": [
    "# maximum temp\n",
    "TX_xagg = pd.read_csv('/Users/jonathanschieren/Desktop/msc_thesis/data/e_obs/xagg_new/TX_aggregated_xagg_xr.csv', usecols=['ID', 'time', 'tx'])"
   ]
  },
  {
   "cell_type": "code",
   "execution_count": null,
   "id": "aabb099b-fdb1-43b8-a75b-7c490c4097a9",
   "metadata": {},
   "outputs": [],
   "source": [
    "# load precipitation\n",
    "RR_xagg = pd.read_csv('/Users/jonathanschieren/Desktop/msc_thesis/data/e_obs/xagg_new/RR_aggregated_xagg_xr.csv', usecols=['ID', 'time', 'rr'])"
   ]
  },
  {
   "cell_type": "code",
   "execution_count": null,
   "id": "625e76a6-54c1-464c-9355-63b0d2b83c50",
   "metadata": {},
   "outputs": [],
   "source": [
    "# load sea level pressure\n",
    "PP_xagg = pd.read_csv('/Users/jonathanschieren/Desktop/msc_thesis/data/e_obs/xagg_new/PP_aggregated_xagg_xr.csv', usecols=['ID', 'time', 'pp'])"
   ]
  },
  {
   "cell_type": "code",
   "execution_count": null,
   "id": "79ebe858-41f8-4e92-b9f4-1187e14c47db",
   "metadata": {},
   "outputs": [],
   "source": [
    "# load relative humidity\n",
    "HU_xagg = pd.read_csv('/Users/jonathanschieren/Desktop/msc_thesis/data/e_obs/xagg_new/HU_aggregated_xagg_xr.csv', usecols=['ID', 'time', 'hu'])"
   ]
  },
  {
   "cell_type": "code",
   "execution_count": null,
   "id": "527a1059-9214-489e-9a02-f60873515cf2",
   "metadata": {},
   "outputs": [],
   "source": [
    "# wind speed \n",
    "FG_xagg = pd.read_csv('/Users/jonathanschieren/Desktop/msc_thesis/data/e_obs/xagg_new/FG_aggregated_xagg_xr.csv', usecols=['ID', 'time', 'fg'])"
   ]
  },
  {
   "cell_type": "code",
   "execution_count": null,
   "id": "3d7be4c3-2894-4d7b-b197-c1955edae69d",
   "metadata": {
    "tags": []
   },
   "outputs": [],
   "source": [
    "# shortwave radiation \n",
    "QQ_xagg = pd.read_csv('/Users/jonathanschieren/Desktop/msc_thesis/data/e_obs/xagg_new/QQ_aggregated_xagg_xr.csv', usecols=['ID', 'time', 'qq'])"
   ]
  },
  {
   "cell_type": "code",
   "execution_count": null,
   "id": "c3ab7deb-d7a0-4c52-9393-261a701d1594",
   "metadata": {},
   "outputs": [],
   "source": [
    "# open albedo \n",
    "ALB_xagg = pd.read_csv('/Users/jonathanschieren/Desktop/msc_thesis/data/e_obs/xagg_new/ALB_aggregated_xagg_xr.csv', usecols=['ID', 'time', 'fal'])"
   ]
  },
  {
   "cell_type": "code",
   "execution_count": null,
   "id": "aeb09f72-aaca-4f3b-bacd-1a57b8f1dc5e",
   "metadata": {},
   "outputs": [],
   "source": [
    "# open ET0 Penman \n",
    "ET0_xagg = pd.read_csv('/Users/jonathanschieren/Desktop/msc_thesis/data/e_obs/xagg_new/ET0_fao_aggregated_xagg_xr.csv', usecols=['ID', 'time', 'var'])\n"
   ]
  },
  {
   "cell_type": "code",
   "execution_count": null,
   "id": "1fd80c72-1a2b-4bb1-9d0b-71eeea40aca0",
   "metadata": {},
   "outputs": [],
   "source": [
    "# rename column in ET0 Penman \n",
    "ET0_xagg.rename(columns={'var': 'ET0'}, inplace=True)"
   ]
  },
  {
   "cell_type": "code",
   "execution_count": null,
   "id": "396e4318-15bb-46c6-9856-1d9c128f75ee",
   "metadata": {},
   "outputs": [],
   "source": [
    "ET0_xagg # pet_2.set_index('time', inplace=True)"
   ]
  },
  {
   "cell_type": "code",
   "execution_count": null,
   "id": "abb7fe40-09be-419d-874e-d1cfb2f46246",
   "metadata": {},
   "outputs": [],
   "source": [
    "# open PET last \n",
    "PET_last_xagg = pd.read_csv('/Users/jonathanschieren/Desktop/msc_thesis/data/e_obs/xagg_new/PET_last_era5land_aggregated_xagg_xr.csv', usecols=['ID', 'time', 'pev'])\n"
   ]
  },
  {
   "cell_type": "code",
   "execution_count": null,
   "id": "b66cce9e-0821-4ebd-9ad3-d1a218432ddc",
   "metadata": {},
   "outputs": [],
   "source": [
    "PET_last_xagg"
   ]
  },
  {
   "cell_type": "code",
   "execution_count": null,
   "id": "fdbee635-68f3-4355-9a7b-8f2531103981",
   "metadata": {
    "tags": []
   },
   "outputs": [],
   "source": [
    "# save all catchments as individual csv files \n",
    "path = '/Users/jonathanschieren/Desktop/msc_thesis/data/e_obs/xagg_individual_et0/'\n",
    "for IDs in shape_C_4326.ID:\n",
    "    \n",
    "    print(IDs)\n",
    "    et0 = ET0_xagg[ET0_xagg['ID']==IDs]\n",
    "\n",
    "    \n",
    "    # drop the ID columns drop time columns for all vars except precipitation\n",
    "    et0 = et0.drop(['ID'], axis = 1)\n",
    "\n",
    "    et0.to_csv(path + \"ID_\" + str(IDs) + \".csv\")\n"
   ]
  },
  {
   "cell_type": "code",
   "execution_count": null,
   "id": "9d294e8b-218c-439e-b006-865350ea38f0",
   "metadata": {},
   "outputs": [],
   "source": [
    "def invert_pet(input_folder1, input_folder2, output_folder, id_list):\n",
    "    for id_num in id_list:\n",
    "        input_file1 = os.path.join(input_folder1, f\"ID_{id_num}.csv\")\n",
    "        input_file2 = os.path.join(input_folder2, f\"ID_{id_num}.csv\")\n",
    "        output_file = os.path.join(output_folder, f\"ID_{id_num}.csv\")\n",
    "        \n",
    "        # read\n",
    "        data1 = pd.read_csv(input_file1)\n",
    "        data2 = pd.read_csv(input_file2)\n",
    "        \n",
    "        selected_columns = ['time', 'rr', 'tg', 'tn', 'tx', 'pp', 'hu', 'fg', 'qq', 'fal', 'DOY', 'daylength', 'pev']\n",
    "        combined_data = pd.concat([data1[selected_columns], data2[['ET0']]], axis=1)\n",
    "        combined_data.set_index('time', inplace=True)\n",
    "        \n",
    "        # Save the updated data to a new CSV file\n",
    "        combined_data.to_csv(output_file, index=True)\n",
    "        \n",
    "        print(f\"ID: {id_num}\")"
   ]
  },
  {
   "cell_type": "code",
   "execution_count": null,
   "id": "83d9d022-30c9-4bb7-82b1-7a6eeda1ff10",
   "metadata": {},
   "outputs": [],
   "source": [
    "IDs = IDs.astype(int)"
   ]
  },
  {
   "cell_type": "code",
   "execution_count": null,
   "id": "d388c159-72ce-4c22-beba-c7b4ae363666",
   "metadata": {
    "tags": []
   },
   "outputs": [],
   "source": [
    "IDs"
   ]
  },
  {
   "cell_type": "code",
   "execution_count": null,
   "id": "4e8ed17a-fc3c-4beb-9a23-df3ebab5e2a8",
   "metadata": {
    "tags": []
   },
   "outputs": [],
   "source": [
    "# Specify input and output paths and ID list\n",
    "input_folder_path1 = \"/Users/jonathanschieren/Desktop/msc_thesis/data/e_obs/xagg_individual_final/timeseries/forcings_c_xagg/\"\n",
    "input_folder_path2 = \"/Users/jonathanschieren/Desktop/msc_thesis/data/e_obs/xagg_individual_et0/\"\n",
    "output_folder_path = \"/Users/jonathanschieren/Desktop/msc_thesis/data/e_obs/xagg_timeseries/\"\n",
    "\n",
    "# Call the function\n",
    "invert_pet(input_folder_path1, input_folder_path2, output_folder_path, IDs)"
   ]
  },
  {
   "cell_type": "code",
   "execution_count": null,
   "id": "08b9ee9f-68ac-4338-9efa-4d2d485288c1",
   "metadata": {},
   "outputs": [],
   "source": [
    "# final \n",
    "final = pd.read_csv('/Users/jonathanschieren/Desktop/msc_thesis/data/e_obs/xagg_timeseries/ID_196.csv')\n"
   ]
  },
  {
   "cell_type": "code",
   "execution_count": null,
   "id": "e9224a9d-303f-4083-a160-31164f40391a",
   "metadata": {},
   "outputs": [],
   "source": [
    "final"
   ]
  },
  {
   "cell_type": "code",
   "execution_count": null,
   "id": "b18b4714-9a21-4baa-8ca4-dcd2f2a2700b",
   "metadata": {},
   "outputs": [],
   "source": []
  },
  {
   "cell_type": "code",
   "execution_count": null,
   "id": "e201f95b-96ab-4aed-bb61-98aa9166e3e9",
   "metadata": {},
   "outputs": [],
   "source": []
  },
  {
   "cell_type": "code",
   "execution_count": null,
   "id": "89af0c31-e344-4e5f-8aa0-45ee19f429e0",
   "metadata": {},
   "outputs": [],
   "source": []
  },
  {
   "cell_type": "code",
   "execution_count": null,
   "id": "f264eb3d-76bf-4624-b325-6052df113633",
   "metadata": {},
   "outputs": [],
   "source": []
  },
  {
   "cell_type": "markdown",
   "id": "812556a9-94e8-431a-b282-6cb04354d106",
   "metadata": {},
   "source": [
    "# 6. Runoff Time Series (LamaH-CE)\n",
    "Runoff time series in LamaH were interpolated when gaps where smaller than 6 h. \n",
    "\n",
    "Here we analyze how long the time series are and which ones contain gaps and how large those gaps are. \n",
    "\n"
   ]
  },
  {
   "cell_type": "markdown",
   "id": "f6535d8b-c1ca-42e9-86bd-90e91ccfd4c5",
   "metadata": {},
   "source": [
    "## 6.1 Gauge Attributes"
   ]
  },
  {
   "cell_type": "code",
   "execution_count": null,
   "id": "aaa86706-7e9c-41a6-8af1-6857763d7947",
   "metadata": {
    "tags": []
   },
   "outputs": [],
   "source": [
    "# IDs in catchment delineation C (this is created further up) \n",
    "IDs"
   ]
  },
  {
   "cell_type": "code",
   "execution_count": null,
   "id": "c9bd8cf8-efe0-4aa2-8f1f-9b503bfb0e5f",
   "metadata": {},
   "outputs": [],
   "source": [
    "# load file with gauge attributes (this is for ALL gauges)\n",
    "gauge_attrs = pd.read_csv(\"/Users/jonathanschieren/Desktop/msc_thesis/data/lamah/hourly/D_gauges/1_attributes/Gauge_attributes_MOD.csv\", delimiter=\",\")\n"
   ]
  },
  {
   "cell_type": "code",
   "execution_count": null,
   "id": "b5476094-cc03-4fae-a198-5a9d27619d27",
   "metadata": {},
   "outputs": [],
   "source": [
    "gauge_attrs.head(2)"
   ]
  },
  {
   "cell_type": "code",
   "execution_count": null,
   "id": "4100dbd7-ad96-4cb2-8349-79957a3d3bf3",
   "metadata": {},
   "outputs": [],
   "source": [
    "# subset of gauge attributes that includes only the gauges used in catchment delineation C\n",
    "gauge_attrs_C = gauge_attrs[gauge_attrs['ID'].isin(IDs)]\n",
    "gauge_attrs_C.head()"
   ]
  },
  {
   "cell_type": "code",
   "execution_count": null,
   "id": "3bd46587-0f47-49b7-9d4d-e6ef240d2331",
   "metadata": {},
   "outputs": [],
   "source": [
    "gauge_attrs_C.columns"
   ]
  },
  {
   "cell_type": "code",
   "execution_count": null,
   "id": "c4a3e268-7b68-4af6-830a-eff4152993a5",
   "metadata": {},
   "outputs": [],
   "source": [
    "gap_count = gauge_attrs_C['gaps_post'].value_counts()"
   ]
  },
  {
   "cell_type": "code",
   "execution_count": null,
   "id": "a5874af6-a207-4db3-8d12-c6e896f9e88d",
   "metadata": {},
   "outputs": [],
   "source": [
    "gap_count"
   ]
  },
  {
   "cell_type": "code",
   "execution_count": null,
   "id": "7ff4a9ce-56eb-4555-ab1f-f223ff8bf5ea",
   "metadata": {},
   "outputs": [],
   "source": [
    "plt.bar(gauge_attrs_C['ID'], gauge_attrs_C['gaps_post'])"
   ]
  },
  {
   "cell_type": "code",
   "execution_count": null,
   "id": "7d182a78-645a-49d5-908a-4b2d9758eef8",
   "metadata": {},
   "outputs": [],
   "source": [
    "# df that includes only the gauges/IDs that are gap free\n",
    "gauge_attrs_C_nogap = gauge_attrs_C[gauge_attrs_C['gaps_post'] == 0.0]\n",
    "\n",
    "# array with gap free IDs\n",
    "IDs_nogap = gauge_attrs_C[gauge_attrs_C['gaps_post'] == 0.0]['ID'].values"
   ]
  },
  {
   "cell_type": "code",
   "execution_count": null,
   "id": "ccb2e748-c062-4ed9-9ebd-551d8c394afe",
   "metadata": {},
   "outputs": [],
   "source": [
    "gauge_attrs_C_nogap.tail()"
   ]
  },
  {
   "cell_type": "code",
   "execution_count": null,
   "id": "bed7e34b-41ab-43c1-9b77-d767b093011c",
   "metadata": {},
   "outputs": [],
   "source": [
    "gauge_attrs_C_nogap.shape"
   ]
  },
  {
   "cell_type": "markdown",
   "id": "2bf05f9f-1223-4e9f-945a-4bf34dce37af",
   "metadata": {},
   "source": [
    "## 6.2 Inspect start and end time of the gap-free time series"
   ]
  },
  {
   "cell_type": "code",
   "execution_count": null,
   "id": "cad42db0-0bc3-4252-b837-47136419fc5c",
   "metadata": {},
   "outputs": [],
   "source": [
    "runoff_path = \"/Users/jonathanschieren/Desktop/msc_thesis/data/lamah/hourly/D_gauges/2_timeseries/daily/\"\n"
   ]
  },
  {
   "cell_type": "code",
   "execution_count": null,
   "id": "de6eb0d2-ebb9-4ade-be35-fa08c5dcc184",
   "metadata": {
    "tags": []
   },
   "outputs": [],
   "source": [
    "csv_files = glob.glob(os.path.join(runoff_path, \"ID_*.csv\"))\n",
    "\n",
    "for file_path in csv_files:\n",
    "    file_name = os.path.basename(file_path)\n",
    "    file_id = int(file_name.split('_')[1][:-4])  # Extract the ID from the file name\n",
    "    \n",
    "    if file_id in IDs_nogap:\n",
    "        df = pd.read_csv(file_path, delimiter=\";\")\n",
    "\n",
    "        first_date = df.iloc[0]\n",
    "        last_date = df.iloc[-1]\n",
    "        print(f\"File: {file_name}\")\n",
    "        first = first_date['YYYY'].astype(int)\n",
    "        last = last_date['YYYY'].astype(int)\n",
    "        print(f\"First Date: {first_date['YYYY'].astype(int)}-{first_date['MM'].astype(int)}-{first_date['DD'].astype(int)}\")\n",
    "        print(f\"Last Date: {last_date['YYYY'].astype(int)}-{last_date['MM'].astype(int)}-{last_date['DD'].astype(int)}\")\n",
    "        print(\"\")\n"
   ]
  },
  {
   "cell_type": "code",
   "execution_count": null,
   "id": "807eb366-731a-4f1f-b048-bcb7b6e9544a",
   "metadata": {
    "tags": []
   },
   "outputs": [],
   "source": [
    "# Date range boundaries\n",
    "start_date = dt(1981, 1, 1)\n",
    "end_date = dt(2017, 12, 31)\n",
    "\n",
    "# List to store the filtered IDs\n",
    "filtered_ids = []\n",
    "\n",
    "# Loop through the CSV files in the folder\n",
    "csv_files = glob.glob(os.path.join(runoff_path, \"ID_*.csv\"))\n",
    "\n",
    "for file_path in csv_files:\n",
    "    file_name = os.path.basename(file_path)\n",
    "    file_id = int(file_name.split('_')[1][:-4])  # Extract the ID from the file name\n",
    "    \n",
    "    if file_id in IDs_nogap:\n",
    "        df = pd.read_csv(file_path, delimiter=\";\")\n",
    "        \n",
    "        # Convert \"YYYY\", \"MM\", \"DD\" columns to a datetime object\n",
    "        df['Date'] = pd.to_datetime(df[['YYYY', 'MM', 'DD']].astype(str).apply('-'.join, axis=1))\n",
    "        \n",
    "        first_date = df.iloc[0]['Date']\n",
    "        last_date = df.iloc[-1]['Date']\n",
    "        \n",
    "        if start_date == first_date and last_date == end_date:\n",
    "            filtered_ids.append(file_id)\n",
    "            \n",
    "            print(f\"File: {file_name}\")\n",
    "            print(f\"First Date: {first_date}\")\n",
    "            print(f\"Last Date: {last_date}\")\n",
    "            print(\"\")\n",
    "\n",
    "print(\"Filtered IDs:\", filtered_ids)"
   ]
  },
  {
   "cell_type": "code",
   "execution_count": null,
   "id": "a5661056-9bab-4753-8299-2188f5be1617",
   "metadata": {},
   "outputs": [],
   "source": [
    "# save filtered IDs \n",
    "csv_file_path = \"/Users/jonathanschieren/Desktop/msc_thesis/data/lamah/hourly/C_basins_intermediate_lowimp/IDs_nogap_fullperiod.csv\"\n",
    "pd.DataFrame({\"Filtered IDs\": filtered_ids}).to_csv(csv_file_path, index=False)"
   ]
  },
  {
   "cell_type": "code",
   "execution_count": null,
   "id": "4c0a6711-b98c-4a14-a8a3-0711abc0b076",
   "metadata": {},
   "outputs": [],
   "source": []
  }
 ],
 "metadata": {
  "kernelspec": {
   "display_name": "hydromt",
   "language": "python",
   "name": "hydromt"
  },
  "language_info": {
   "codemirror_mode": {
    "name": "ipython",
    "version": 3
   },
   "file_extension": ".py",
   "mimetype": "text/x-python",
   "name": "python",
   "nbconvert_exporter": "python",
   "pygments_lexer": "ipython3",
   "version": "3.10.9"
  }
 },
 "nbformat": 4,
 "nbformat_minor": 5
}
